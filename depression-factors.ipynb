{
 "cells": [
  {
   "cell_type": "markdown",
   "metadata": {},
   "source": [
    "# Project assignment\n",
    "### Programming for Data Analysis, GMIT\n",
    "###  December, 2019."
   ]
  },
  {
   "cell_type": "markdown",
   "metadata": {},
   "source": [
    "Major **depression** is one of the most common mental illnesses, affecting 6.7% (more than 16 million) of American adults each year and is widely spread among students. A lack of sleep, poor eating habits, and not enough exercise are a recipe for depression among college students. The stress that comes with academia — including financial worries, pressure to get a good job after school, and failed relationships — is enough to force some students to leave college or worse. For that reason, I have chosen depression among international students in United States to be the topic of my projects. I will base my simulated/synthesised dataset on the research paper on the topic as follows: *Predictors of Depression and Anxiety Among International Students*, written by Seda Sümer, Senel Poyrazli, and Kamini Grahame."
   ]
  },
  {
   "cell_type": "markdown",
   "metadata": {},
   "source": [
    "International students are often facing difficulties adjusting to new social and educational environment, which is causing aditional stress. This changes are sometimes followed by cultural shocks, language barriers, homesickness and other social difficulties. All of these circumstances lead to isolation and lonliness and in many cases, depression.  \n",
    "It is very important that those who do experience depression get all the support and help they need and that's why it is essential to raise awareness about this problem and try to recognise the causes, in order to prevent the same.  \n",
    "Therefore, we will analyse the potential causes of depression and their relationship with depression itself."
   ]
  },
  {
   "cell_type": "markdown",
   "metadata": {},
   "source": [
    "## Data"
   ]
  },
  {
   "cell_type": "markdown",
   "metadata": {},
   "source": [
    "Dataset will consist of 440 observations - international students participating in the study and all together 8 variables."
   ]
  },
  {
   "cell_type": "markdown",
   "metadata": {},
   "source": [
    "### Variables"
   ]
  },
  {
   "cell_type": "markdown",
   "metadata": {},
   "source": [
    "**Depression** - measured by the Goldberg Depression Scale (GDP; Goldberg, 1993; Holm, Holm, & Bech, 2001), highest score being 90 (most severe depression) and lowest being 0 (complete absence of depressiove symptoms)  \n",
    "**Age** - age of the student  \n",
    "**Sex** - Male/Female    \n",
    "**GPA** - Grade Point Average, as a measure of the average grade of the student (1.5-4.00)  \n",
    "**Sleep** - average hours of sleep per night  \n",
    "**Exercise** - exercise per week (in hours)   \n",
    "**Social support** - measured by The Social Provisions Scale (SPS; Cutrona & Russell, 1987), includes attachment, social integration, reassurance of worth, reliable allience, guidence and opportunity for nurturance. A high score indicates a greater degree of percieved support with coefficients range 0.37 - 0.66.  \n",
    "**Level of stress** - low, moderate, high"
   ]
  },
  {
   "cell_type": "markdown",
   "metadata": {},
   "source": [
    "## Simulation of  variables"
   ]
  },
  {
   "cell_type": "code",
   "execution_count": 152,
   "metadata": {},
   "outputs": [],
   "source": [
    "#import libraries\n",
    "import pandas as pd\n",
    "import numpy as np\n",
    "import matplotlib.pyplot as plt\n",
    "%matplotlib inline\n",
    "import seaborn as sns"
   ]
  },
  {
   "cell_type": "code",
   "execution_count": 28,
   "metadata": {},
   "outputs": [
    {
     "data": {
      "text/html": [
       "<div>\n",
       "<style scoped>\n",
       "    .dataframe tbody tr th:only-of-type {\n",
       "        vertical-align: middle;\n",
       "    }\n",
       "\n",
       "    .dataframe tbody tr th {\n",
       "        vertical-align: top;\n",
       "    }\n",
       "\n",
       "    .dataframe thead th {\n",
       "        text-align: right;\n",
       "    }\n",
       "</style>\n",
       "<table border=\"1\" class=\"dataframe\">\n",
       "  <thead>\n",
       "    <tr style=\"text-align: right;\">\n",
       "      <th></th>\n",
       "      <th>Age</th>\n",
       "      <th>Sex</th>\n",
       "      <th>GPA</th>\n",
       "      <th>Sleep</th>\n",
       "      <th>Exercise</th>\n",
       "      <th>Soc_support</th>\n",
       "      <th>Stress</th>\n",
       "      <th>Depression</th>\n",
       "    </tr>\n",
       "  </thead>\n",
       "  <tbody>\n",
       "  </tbody>\n",
       "</table>\n",
       "</div>"
      ],
      "text/plain": [
       "Empty DataFrame\n",
       "Columns: [Age, Sex, GPA, Sleep, Exercise, Soc_support, Stress, Depression]\n",
       "Index: []"
      ]
     },
     "execution_count": 28,
     "metadata": {},
     "output_type": "execute_result"
    }
   ],
   "source": [
    "#creating the dataframe with columns as follows\n",
    "df =  pd.DataFrame(columns=['Age','Sex','GPA','Sleep','Exercise','Soc_support','Stress','Depression'])\n",
    "df.head() #ckeck the look of the heading"
   ]
  },
  {
   "cell_type": "markdown",
   "metadata": {},
   "source": [
    "### Age"
   ]
  },
  {
   "cell_type": "markdown",
   "metadata": {},
   "source": [
    "Participants were students of age 18 to 39, average of 29 years and standard deviation of 6.34."
   ]
  },
  {
   "cell_type": "code",
   "execution_count": 2,
   "metadata": {},
   "outputs": [],
   "source": [
    "#Setting the seed in order to reproduce the variable values in the future\n",
    "np.random.seed(100)"
   ]
  },
  {
   "cell_type": "code",
   "execution_count": 29,
   "metadata": {},
   "outputs": [],
   "source": [
    "#Creating the variable Age using numpy random uniform distribution\n",
    "Age = np.random.uniform(18,40,240)\n",
    "df['Age'] = Age.round(0) #rounding the values on 0 decimal places and populating the dataset"
   ]
  },
  {
   "cell_type": "code",
   "execution_count": 30,
   "metadata": {},
   "outputs": [
    {
     "data": {
      "text/plain": [
       "(array([13., 14., 12., 17.,  5., 13., 13., 10., 15.,  9., 16., 10., 14.,\n",
       "        10., 10.,  9., 13., 12.,  8., 17.]),\n",
       " array([18.12890011, 19.21085523, 20.29281034, 21.37476545, 22.45672057,\n",
       "        23.53867568, 24.62063079, 25.70258591, 26.78454102, 27.86649613,\n",
       "        28.94845125, 30.03040636, 31.11236147, 32.19431659, 33.2762717 ,\n",
       "        34.35822681, 35.44018193, 36.52213704, 37.60409215, 38.68604727,\n",
       "        39.76800238]),\n",
       " <a list of 20 Patch objects>)"
      ]
     },
     "execution_count": 30,
     "metadata": {},
     "output_type": "execute_result"
    },
    {
     "data": {
      "image/png": "[encoded data removed]",
      "text/plain": [
       "<Figure size 432x288 with 1 Axes>"
      ]
     },
     "metadata": {
      "needs_background": "light"
     },
     "output_type": "display_data"
    }
   ],
   "source": [
    "#Histogram of the variable Age\n",
    "plt.hist(Age, bins=20)"
   ]
  },
  {
   "cell_type": "code",
   "execution_count": 31,
   "metadata": {},
   "outputs": [
    {
     "name": "stdout",
     "output_type": "stream",
     "text": [
      "Mean: 28.76216788427935\n",
      "Standard deviation: 6.344505059646121\n"
     ]
    }
   ],
   "source": [
    "print(\"Mean:\", Age.mean())\n",
    "print(\"Standard deviation:\", Age.std())"
   ]
  },
  {
   "cell_type": "markdown",
   "metadata": {},
   "source": [
    "### Sex"
   ]
  },
  {
   "cell_type": "markdown",
   "metadata": {},
   "source": [
    "57% of the participants were men and 43% women."
   ]
  },
  {
   "cell_type": "code",
   "execution_count": 53,
   "metadata": {},
   "outputs": [],
   "source": [
    "#creating the Male/Female objects\n",
    "sex = ['Male','Female']\n",
    "#create variable Sex with 57% men and 43% women \n",
    "Sex = np.random.choice(sex, 240, p=[0.57,0.43]) "
   ]
  },
  {
   "cell_type": "code",
   "execution_count": 54,
   "metadata": {},
   "outputs": [
    {
     "data": {
      "text/plain": [
       "(array([102.,   0.,   0.,   0.,   0.,   0.,   0.,   0.,   0., 138.]),\n",
       " array([0. , 0.1, 0.2, 0.3, 0.4, 0.5, 0.6, 0.7, 0.8, 0.9, 1. ]),\n",
       " <a list of 10 Patch objects>)"
      ]
     },
     "execution_count": 54,
     "metadata": {},
     "output_type": "execute_result"
    },
    {
     "data": {
      "image/png": "[encoded data removed]",
      "text/plain": [
       "<Figure size 432x288 with 1 Axes>"
      ]
     },
     "metadata": {
      "needs_background": "light"
     },
     "output_type": "display_data"
    }
   ],
   "source": [
    "#histogram of the variable Sex\n",
    "plt.hist(Sex)"
   ]
  },
  {
   "cell_type": "code",
   "execution_count": 55,
   "metadata": {},
   "outputs": [],
   "source": [
    "#populating the dataset column 'Sex'\n",
    "df['Sex']= Sex"
   ]
  },
  {
   "cell_type": "markdown",
   "metadata": {},
   "source": [
    "### GPA"
   ]
  },
  {
   "cell_type": "markdown",
   "metadata": {},
   "source": [
    "GPA of the students is following the normal distribution, with an average of 3.0 and standard deviation of 0.32."
   ]
  },
  {
   "cell_type": "code",
   "execution_count": 62,
   "metadata": {},
   "outputs": [
    {
     "data": {
      "text/plain": [
       "(array([ 8., 16., 33., 43., 52., 48., 26., 10.,  3.,  1.]),\n",
       " array([2.28805082, 2.4548709 , 2.62169097, 2.78851105, 2.95533113,\n",
       "        3.12215121, 3.28897129, 3.45579136, 3.62261144, 3.78943152,\n",
       "        3.9562516 ]),\n",
       " <a list of 10 Patch objects>)"
      ]
     },
     "execution_count": 62,
     "metadata": {},
     "output_type": "execute_result"
    },
    {
     "data": {
      "image/png": "[encoded data removed]",
      "text/plain": [
       "<Figure size 432x288 with 1 Axes>"
      ]
     },
     "metadata": {
      "needs_background": "light"
     },
     "output_type": "display_data"
    }
   ],
   "source": [
    "#generating GPA variable using numpy random normal\n",
    "GPA = np.random.normal(3,0.32,240)\n",
    "plt.hist(GPA) #histogram of the generated values"
   ]
  },
  {
   "cell_type": "code",
   "execution_count": 65,
   "metadata": {},
   "outputs": [],
   "source": [
    "df['GPA']= GPA #populating the dataset column"
   ]
  },
  {
   "cell_type": "markdown",
   "metadata": {},
   "source": [
    "### Sleep"
   ]
  },
  {
   "cell_type": "markdown",
   "metadata": {},
   "source": [
    "Students on average get 6.5 hours of sleep per night."
   ]
  },
  {
   "cell_type": "code",
   "execution_count": 66,
   "metadata": {},
   "outputs": [
    {
     "data": {
      "text/plain": [
       "(array([39.,  0., 32.,  0., 43.,  0., 46.,  0., 35., 45.]),\n",
       " array([4. , 4.5, 5. , 5.5, 6. , 6.5, 7. , 7.5, 8. , 8.5, 9. ]),\n",
       " <a list of 10 Patch objects>)"
      ]
     },
     "execution_count": 66,
     "metadata": {},
     "output_type": "execute_result"
    },
    {
     "data": {
      "image/png": "[encoded data removed]",
      "text/plain": [
       "<Figure size 432x288 with 1 Axes>"
      ]
     },
     "metadata": {
      "needs_background": "light"
     },
     "output_type": "display_data"
    }
   ],
   "source": [
    "#generating average hours of sleep by numpy randint function\n",
    "Sleep = np.random.randint(4,10,240) \n",
    "plt.hist(Sleep) #histogram of generated values"
   ]
  },
  {
   "cell_type": "code",
   "execution_count": 67,
   "metadata": {},
   "outputs": [
    {
     "name": "stdout",
     "output_type": "stream",
     "text": [
      "Mean: 6.5875\n"
     ]
    }
   ],
   "source": [
    "#mean of the Sleep variable\n",
    "print(\"Mean:\", Sleep.mean())"
   ]
  },
  {
   "cell_type": "code",
   "execution_count": 68,
   "metadata": {},
   "outputs": [],
   "source": [
    "df['Sleep'] = Sleep #populating the dataset column"
   ]
  },
  {
   "cell_type": "markdown",
   "metadata": {},
   "source": [
    "### Exercise"
   ]
  },
  {
   "cell_type": "markdown",
   "metadata": {},
   "source": [
    "Studies show that people who don't exercise show higher depression symptoms than the ones who do exercise and it can be said that exercise has a positove impact on reducing depression. However, research shows that a big percentage of students exercise less than 1 day a week or not at all. "
   ]
  },
  {
   "cell_type": "code",
   "execution_count": 69,
   "metadata": {},
   "outputs": [],
   "source": [
    "#creating a list of average exercise per week, in days\n",
    "avg_exercise = [0,1,2,3,4,5,6,7]\n",
    "#creating a variable Exercise with certain probabilities attatched to each value in the list \n",
    "Exercise = np.random.choice(avg_exercise, 240, p=[0.2,0.3,0.07,0.2,0.2,0.01,0.01,0.01])"
   ]
  },
  {
   "cell_type": "code",
   "execution_count": 70,
   "metadata": {},
   "outputs": [
    {
     "data": {
      "text/plain": [
       "(array([62., 62., 15., 54., 40.,  1.,  6.]),\n",
       " array([0., 1., 2., 3., 4., 5., 6., 7.]),\n",
       " <a list of 7 Patch objects>)"
      ]
     },
     "execution_count": 70,
     "metadata": {},
     "output_type": "execute_result"
    },
    {
     "data": {
      "image/png": "[encoded data removed]",
      "text/plain": [
       "<Figure size 432x288 with 1 Axes>"
      ]
     },
     "metadata": {
      "needs_background": "light"
     },
     "output_type": "display_data"
    }
   ],
   "source": [
    "plt.hist(Exercise, bins=7)"
   ]
  },
  {
   "cell_type": "code",
   "execution_count": 71,
   "metadata": {},
   "outputs": [],
   "source": [
    "df['Exercise'] = Exercise #populating the dataset column"
   ]
  },
  {
   "cell_type": "markdown",
   "metadata": {},
   "source": [
    "### Social support"
   ]
  },
  {
   "cell_type": "markdown",
   "metadata": {},
   "source": [
    "It might be difficult for international students to replace the social netwoek of family, neighbors and friends that they had in their home environment. It is suggested that social support and related variables such as social network  satisfaction,  perceived  social  network,  and  needed support are related to international students’ adjustment levels, life satisfaction, acculturative stress, reactions to stressors, and depressive symptoms."
   ]
  },
  {
   "cell_type": "code",
   "execution_count": 9,
   "metadata": {},
   "outputs": [
    {
     "data": {
      "text/plain": [
       "(array([25., 28., 28., 12., 37., 18., 22., 20., 27., 23.]),\n",
       " array([0.37252857, 0.40116969, 0.42981081, 0.45845193, 0.48709305,\n",
       "        0.51573416, 0.54437528, 0.5730164 , 0.60165752, 0.63029864,\n",
       "        0.65893976]),\n",
       " <a list of 10 Patch objects>)"
      ]
     },
     "execution_count": 9,
     "metadata": {},
     "output_type": "execute_result"
    },
    {
     "data": {
      "image/png": "[encoded data removed]",
      "text/plain": [
       "<Figure size 432x288 with 1 Axes>"
      ]
     },
     "metadata": {
      "needs_background": "light"
     },
     "output_type": "display_data"
    }
   ],
   "source": [
    "Soc_support = np.random.uniform(0.37,0.66,240)\n",
    "plt.hist(Soc_support)"
   ]
  },
  {
   "cell_type": "code",
   "execution_count": 10,
   "metadata": {},
   "outputs": [
    {
     "name": "stdout",
     "output_type": "stream",
     "text": [
      "Mean: 0.5118272936367352\n"
     ]
    }
   ],
   "source": [
    "print(\"Mean:\", Soc_support.mean())"
   ]
  },
  {
   "cell_type": "code",
   "execution_count": 72,
   "metadata": {},
   "outputs": [],
   "source": [
    "df['Soc_support'] = Soc_support #populating the dataset column"
   ]
  },
  {
   "cell_type": "markdown",
   "metadata": {},
   "source": [
    "### Stress"
   ]
  },
  {
   "cell_type": "code",
   "execution_count": 18,
   "metadata": {},
   "outputs": [
    {
     "data": {
      "text/plain": [
       "(array([ 67.,   0., 103.,   0.,  70.]),\n",
       " array([0. , 0.4, 0.8, 1.2, 1.6, 2. ]),\n",
       " <a list of 5 Patch objects>)"
      ]
     },
     "execution_count": 18,
     "metadata": {},
     "output_type": "execute_result"
    },
    {
     "data": {
      "image/png": "[encoded data removed]",
      "text/plain": [
       "<Figure size 432x288 with 1 Axes>"
      ]
     },
     "metadata": {
      "needs_background": "light"
     },
     "output_type": "display_data"
    }
   ],
   "source": [
    "#create objects for stress levels\n",
    "stress = ['low', 'moderate', 'high']\n",
    "#create variable Stress with certain probabilities\n",
    "Stress = np.random.choice(stress, 240, p=[0.3,0.4,0.3])\n",
    "plt.hist(Stress, bins=5) #histogram of the variable Stress"
   ]
  },
  {
   "cell_type": "code",
   "execution_count": 74,
   "metadata": {},
   "outputs": [],
   "source": [
    "df['Stress'] = Stress #populating the dataset column"
   ]
  },
  {
   "cell_type": "markdown",
   "metadata": {},
   "source": [
    "### Depression"
   ]
  },
  {
   "cell_type": "markdown",
   "metadata": {},
   "source": [
    "Finally,the Depression variable, which can take values of 'Low or none', 'Moderate' or 'High'."
   ]
  },
  {
   "cell_type": "code",
   "execution_count": 165,
   "metadata": {},
   "outputs": [],
   "source": [
    "#create a variable using numpy random choice\n",
    "df['Depression']= np.random.randint(0,91,240)"
   ]
  },
  {
   "cell_type": "markdown",
   "metadata": {},
   "source": [
    "## Dataset overview"
   ]
  },
  {
   "cell_type": "code",
   "execution_count": 166,
   "metadata": {},
   "outputs": [
    {
     "data": {
      "text/html": [
       "<div>\n",
       "<style scoped>\n",
       "    .dataframe tbody tr th:only-of-type {\n",
       "        vertical-align: middle;\n",
       "    }\n",
       "\n",
       "    .dataframe tbody tr th {\n",
       "        vertical-align: top;\n",
       "    }\n",
       "\n",
       "    .dataframe thead th {\n",
       "        text-align: right;\n",
       "    }\n",
       "</style>\n",
       "<table border=\"1\" class=\"dataframe\">\n",
       "  <thead>\n",
       "    <tr style=\"text-align: right;\">\n",
       "      <th></th>\n",
       "      <th>Age</th>\n",
       "      <th>Sex</th>\n",
       "      <th>GPA</th>\n",
       "      <th>Sleep</th>\n",
       "      <th>Exercise</th>\n",
       "      <th>Soc_support</th>\n",
       "      <th>Stress</th>\n",
       "      <th>Depression</th>\n",
       "    </tr>\n",
       "  </thead>\n",
       "  <tbody>\n",
       "    <tr>\n",
       "      <th>0</th>\n",
       "      <td>30.0</td>\n",
       "      <td>Female</td>\n",
       "      <td>2.900838</td>\n",
       "      <td>8</td>\n",
       "      <td>0</td>\n",
       "      <td>0.492956</td>\n",
       "      <td>low</td>\n",
       "      <td>34</td>\n",
       "    </tr>\n",
       "    <tr>\n",
       "      <th>1</th>\n",
       "      <td>30.0</td>\n",
       "      <td>Male</td>\n",
       "      <td>3.096799</td>\n",
       "      <td>5</td>\n",
       "      <td>0</td>\n",
       "      <td>0.408193</td>\n",
       "      <td>moderate</td>\n",
       "      <td>72</td>\n",
       "    </tr>\n",
       "    <tr>\n",
       "      <th>2</th>\n",
       "      <td>25.0</td>\n",
       "      <td>Male</td>\n",
       "      <td>2.714284</td>\n",
       "      <td>9</td>\n",
       "      <td>3</td>\n",
       "      <td>0.585805</td>\n",
       "      <td>moderate</td>\n",
       "      <td>28</td>\n",
       "    </tr>\n",
       "    <tr>\n",
       "      <th>3</th>\n",
       "      <td>19.0</td>\n",
       "      <td>Male</td>\n",
       "      <td>3.607984</td>\n",
       "      <td>8</td>\n",
       "      <td>3</td>\n",
       "      <td>0.643518</td>\n",
       "      <td>low</td>\n",
       "      <td>81</td>\n",
       "    </tr>\n",
       "    <tr>\n",
       "      <th>4</th>\n",
       "      <td>28.0</td>\n",
       "      <td>Female</td>\n",
       "      <td>2.729380</td>\n",
       "      <td>8</td>\n",
       "      <td>6</td>\n",
       "      <td>0.417942</td>\n",
       "      <td>moderate</td>\n",
       "      <td>12</td>\n",
       "    </tr>\n",
       "  </tbody>\n",
       "</table>\n",
       "</div>"
      ],
      "text/plain": [
       "    Age     Sex       GPA  Sleep  Exercise  Soc_support    Stress  Depression\n",
       "0  30.0  Female  2.900838      8         0     0.492956       low          34\n",
       "1  30.0    Male  3.096799      5         0     0.408193  moderate          72\n",
       "2  25.0    Male  2.714284      9         3     0.585805  moderate          28\n",
       "3  19.0    Male  3.607984      8         3     0.643518       low          81\n",
       "4  28.0  Female  2.729380      8         6     0.417942  moderate          12"
      ]
     },
     "execution_count": 166,
     "metadata": {},
     "output_type": "execute_result"
    }
   ],
   "source": [
    "df.head() #take a look at the first few lines of the dataset"
   ]
  },
  {
   "cell_type": "code",
   "execution_count": 167,
   "metadata": {},
   "outputs": [
    {
     "data": {
      "text/html": [
       "<div>\n",
       "<style scoped>\n",
       "    .dataframe tbody tr th:only-of-type {\n",
       "        vertical-align: middle;\n",
       "    }\n",
       "\n",
       "    .dataframe tbody tr th {\n",
       "        vertical-align: top;\n",
       "    }\n",
       "\n",
       "    .dataframe thead th {\n",
       "        text-align: right;\n",
       "    }\n",
       "</style>\n",
       "<table border=\"1\" class=\"dataframe\">\n",
       "  <thead>\n",
       "    <tr style=\"text-align: right;\">\n",
       "      <th></th>\n",
       "      <th>Age</th>\n",
       "      <th>GPA</th>\n",
       "      <th>Sleep</th>\n",
       "      <th>Exercise</th>\n",
       "      <th>Soc_support</th>\n",
       "      <th>Depression</th>\n",
       "    </tr>\n",
       "  </thead>\n",
       "  <tbody>\n",
       "    <tr>\n",
       "      <th>count</th>\n",
       "      <td>240.000000</td>\n",
       "      <td>240.000000</td>\n",
       "      <td>240.000000</td>\n",
       "      <td>240.000000</td>\n",
       "      <td>240.000000</td>\n",
       "      <td>240.000000</td>\n",
       "    </tr>\n",
       "    <tr>\n",
       "      <th>mean</th>\n",
       "      <td>28.795833</td>\n",
       "      <td>3.006913</td>\n",
       "      <td>6.587500</td>\n",
       "      <td>1.904167</td>\n",
       "      <td>0.511827</td>\n",
       "      <td>44.150000</td>\n",
       "    </tr>\n",
       "    <tr>\n",
       "      <th>std</th>\n",
       "      <td>6.353267</td>\n",
       "      <td>0.296728</td>\n",
       "      <td>1.706697</td>\n",
       "      <td>1.642526</td>\n",
       "      <td>0.084102</td>\n",
       "      <td>25.011512</td>\n",
       "    </tr>\n",
       "    <tr>\n",
       "      <th>min</th>\n",
       "      <td>18.000000</td>\n",
       "      <td>2.288051</td>\n",
       "      <td>4.000000</td>\n",
       "      <td>0.000000</td>\n",
       "      <td>0.372529</td>\n",
       "      <td>0.000000</td>\n",
       "    </tr>\n",
       "    <tr>\n",
       "      <th>25%</th>\n",
       "      <td>23.000000</td>\n",
       "      <td>2.799305</td>\n",
       "      <td>5.000000</td>\n",
       "      <td>0.000000</td>\n",
       "      <td>0.441649</td>\n",
       "      <td>23.000000</td>\n",
       "    </tr>\n",
       "    <tr>\n",
       "      <th>50%</th>\n",
       "      <td>29.000000</td>\n",
       "      <td>3.003725</td>\n",
       "      <td>7.000000</td>\n",
       "      <td>1.000000</td>\n",
       "      <td>0.503159</td>\n",
       "      <td>44.000000</td>\n",
       "    </tr>\n",
       "    <tr>\n",
       "      <th>75%</th>\n",
       "      <td>34.000000</td>\n",
       "      <td>3.223897</td>\n",
       "      <td>8.000000</td>\n",
       "      <td>3.000000</td>\n",
       "      <td>0.585309</td>\n",
       "      <td>66.000000</td>\n",
       "    </tr>\n",
       "    <tr>\n",
       "      <th>max</th>\n",
       "      <td>40.000000</td>\n",
       "      <td>3.956252</td>\n",
       "      <td>9.000000</td>\n",
       "      <td>7.000000</td>\n",
       "      <td>0.658940</td>\n",
       "      <td>90.000000</td>\n",
       "    </tr>\n",
       "  </tbody>\n",
       "</table>\n",
       "</div>"
      ],
      "text/plain": [
       "              Age         GPA       Sleep    Exercise  Soc_support  Depression\n",
       "count  240.000000  240.000000  240.000000  240.000000   240.000000  240.000000\n",
       "mean    28.795833    3.006913    6.587500    1.904167     0.511827   44.150000\n",
       "std      6.353267    0.296728    1.706697    1.642526     0.084102   25.011512\n",
       "min     18.000000    2.288051    4.000000    0.000000     0.372529    0.000000\n",
       "25%     23.000000    2.799305    5.000000    0.000000     0.441649   23.000000\n",
       "50%     29.000000    3.003725    7.000000    1.000000     0.503159   44.000000\n",
       "75%     34.000000    3.223897    8.000000    3.000000     0.585309   66.000000\n",
       "max     40.000000    3.956252    9.000000    7.000000     0.658940   90.000000"
      ]
     },
     "execution_count": 167,
     "metadata": {},
     "output_type": "execute_result"
    }
   ],
   "source": [
    "df.describe() #some statistic the numeric variables of my dataset"
   ]
  },
  {
   "cell_type": "code",
   "execution_count": null,
   "metadata": {},
   "outputs": [],
   "source": []
  },
  {
   "cell_type": "markdown",
   "metadata": {},
   "source": [
    "## Relationship between variables"
   ]
  },
  {
   "cell_type": "code",
   "execution_count": null,
   "metadata": {},
   "outputs": [],
   "source": []
  },
  {
   "cell_type": "markdown",
   "metadata": {},
   "source": [
    "### References"
   ]
  },
  {
   "cell_type": "markdown",
   "metadata": {},
   "source": [
    "[1]GMIT. (2019). Retrieved from https://www.gmit.ie/\n",
    "[2] 3.8.0 Documentation. Retrieved from https://docs.python.org/3/  \n",
    "[3] Project Jupyter. (n.d.). Retrieved from https://jupyter.org  \n",
    "[4] Sümer, S., Poyrazli, S., & Grahame, K. (2008). Predictors of Depression and Anxiety Among International Students. Journal of Counseling & Development, 86(4), 429–437.  \n",
    "[5] Andrews, B., & Wilding, J. M. (2004). The relation of depression and anxiety to life-stress and achievement in students. British Journal of Psychology, 95(4), 509–521.  \n",
    "[6] van Dinther, M., Dochy, F., & Segers, M. (2011). Factors affecting students’ self-efficacy in higher education. Educational Research Review, 6(2), 95–108.  \n",
    "[7] Ngin, C., Pal, K., Tuot, S., Chhoun, P., Yi, R., & Yi, S. (2018). Social and behavioural factors associated with depressive symptoms among university students in Cambodia: a cross-sectional study. BMJ Open.  \n",
    "[8]Random sampling (numpy.random) -  NumPy v1.14 Manual  \n",
    "https://docs.scipy.org/doc/numpy-1.14.1/reference/routines.random.html  \n",
    "[9] Stack overflow. numpy - how to generate random numbers to satisfy a specific mean and median in python?  \n",
    "https://stackoverflow.com/questions/49855569/how-to-generate-random-numbers-to-satisfy-a-specific-mean-and-median-in-python  \n",
    "[10] Stack overflow. numpy - Python Random Array of 0s and 1s.  \n",
    "https://stackoverflow.com/questions/26873415/python-random-array-of-0s-and-1s  \n",
    "[11] pyplot - Matplotlib 2.0.2. documentation  \n",
    "https://matplotlib.org/api/pyplot_api.html#matplotlib.pyplot.hist  \n"
   ]
  },
  {
   "cell_type": "code",
   "execution_count": null,
   "metadata": {},
   "outputs": [],
   "source": []
  }
 ],
 "metadata": {
  "kernelspec": {
   "display_name": "Python 3",
   "language": "python",
   "name": "python3"
  },
  "language_info": {
   "codemirror_mode": {
    "name": "ipython",
    "version": 3
   },
   "file_extension": ".py",
   "mimetype": "text/x-python",
   "name": "python",
   "nbconvert_exporter": "python",
   "pygments_lexer": "ipython3",
   "version": "3.7.1"
  }
 },
 "nbformat": 4,
 "nbformat_minor": 2
}
