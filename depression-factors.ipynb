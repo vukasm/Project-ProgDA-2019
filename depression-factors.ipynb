{
 "cells": [
  {
   "cell_type": "markdown",
   "metadata": {},
   "source": [
    "# Project assignment\n",
    "### Programming for Data Analysis, GMIT\n",
    "###  December, 2019."
   ]
  },
  {
   "cell_type": "markdown",
   "metadata": {},
   "source": [
    "Major **depression** is one of the most common mental illnesses, affecting 6.7% (more than 16 million) of American adults each year and is widely spread among students. A lack of sleep, poor eating habits, and not enough exercise are a recipe for depression among college students. The stress that comes with academia — including financial worries, pressure to get a good job after school, and failed relationships — is enough to force some students to leave college or worse. For that reason, I have chosen depression among international students in United States to be the topic of my projects. I will base my simulated/synthesised dataset on the research paper on the topic as follows: *Predictors of Depression and Anxiety Among International Students*, written by Seda Sümer, Senel Poyrazli, and Kamini Grahame."
   ]
  },
  {
   "cell_type": "markdown",
   "metadata": {},
   "source": [
    "International students are often facing difficulties adjusting to new social and educational environment, which is causing aditional stress. This changes are sometimes followed by cultural shocks, language barriers, homesickness and other social difficulties. All of these circumstances lead to isolation and lonliness and in many cases, depression.  \n",
    "It is very important that those who do experience depression get all the support and help they need and that's why it is essential to raise awareness about this problem and try to recognise the causes, in order to prevent the same.  \n",
    "Therefore, we will analyse the potential causes of depression and their relationship with depression itself."
   ]
  },
  {
   "cell_type": "markdown",
   "metadata": {},
   "source": [
    "## Data"
   ]
  },
  {
   "cell_type": "markdown",
   "metadata": {},
   "source": [
    "Dataset will consist of 440 observations - international students participating in the study and all together 8 variables."
   ]
  },
  {
   "cell_type": "markdown",
   "metadata": {},
   "source": [
    "### Variables"
   ]
  },
  {
   "cell_type": "markdown",
   "metadata": {},
   "source": [
    "**Depression** - measured by the Goldberg Depression Scale (GDP; Goldberg, 1993; Holm, Holm, & Bech, 2001), highest score being 90 (most severe depression) and lowest being 0 (complete absence of depressiove symptoms)  \n",
    "**Age** - age of the student  \n",
    "**Sex** - Male/Female    \n",
    "**GPA** - Grade Point Average, as a measure of the average grade of the student (1.5-4.00)  \n",
    "**Sleep** - average hours of sleep per night  \n",
    "**Exercise** - exercise per week (in hours)   \n",
    "**Social support** - measured by The Social Provisions Scale (SPS; Cutrona & Russell, 1987), includes attachment, social integration, reassurance of worth, reliable allience, guidence and opportunity for nurturance. A high score indicates a greater degree of percieved support with coefficients range 0.37 - 0.66.  \n",
    "**Level of stress** - low, moderate, high"
   ]
  },
  {
   "cell_type": "markdown",
   "metadata": {},
   "source": [
    "## Simulation of  variables"
   ]
  },
  {
   "cell_type": "code",
   "execution_count": 1,
   "metadata": {},
   "outputs": [],
   "source": [
    "#import libraries\n",
    "import pandas as pd\n",
    "import numpy as np\n",
    "import matplotlib.pyplot as plt\n",
    "%matplotlib inline\n",
    "import seaborn as sns"
   ]
  },
  {
   "cell_type": "code",
   "execution_count": 2,
   "metadata": {},
   "outputs": [
    {
     "data": {
      "text/html": [
       "<div>\n",
       "<style scoped>\n",
       "    .dataframe tbody tr th:only-of-type {\n",
       "        vertical-align: middle;\n",
       "    }\n",
       "\n",
       "    .dataframe tbody tr th {\n",
       "        vertical-align: top;\n",
       "    }\n",
       "\n",
       "    .dataframe thead th {\n",
       "        text-align: right;\n",
       "    }\n",
       "</style>\n",
       "<table border=\"1\" class=\"dataframe\">\n",
       "  <thead>\n",
       "    <tr style=\"text-align: right;\">\n",
       "      <th></th>\n",
       "      <th>Age</th>\n",
       "      <th>Sex</th>\n",
       "      <th>GPA</th>\n",
       "      <th>Sleep</th>\n",
       "      <th>Exercise</th>\n",
       "      <th>Soc_support</th>\n",
       "      <th>Stress</th>\n",
       "      <th>Depression</th>\n",
       "    </tr>\n",
       "  </thead>\n",
       "  <tbody>\n",
       "  </tbody>\n",
       "</table>\n",
       "</div>"
      ],
      "text/plain": [
       "Empty DataFrame\n",
       "Columns: [Age, Sex, GPA, Sleep, Exercise, Soc_support, Stress, Depression]\n",
       "Index: []"
      ]
     },
     "execution_count": 2,
     "metadata": {},
     "output_type": "execute_result"
    }
   ],
   "source": [
    "#creating the dataframe with columns as follows\n",
    "df =  pd.DataFrame(columns=['Age','Sex','GPA','Sleep','Exercise','Soc_support','Stress','Depression'])\n",
    "df.head() #ckeck the look of the heading"
   ]
  },
  {
   "cell_type": "markdown",
   "metadata": {},
   "source": [
    "### Age"
   ]
  },
  {
   "cell_type": "markdown",
   "metadata": {},
   "source": [
    "Participants were students of age 18 to 39, average of 29 years and standard deviation of 6.34."
   ]
  },
  {
   "cell_type": "code",
   "execution_count": 3,
   "metadata": {},
   "outputs": [],
   "source": [
    "#Setting the seed in order to reproduce the variable values in the future\n",
    "np.random.seed(100)"
   ]
  },
  {
   "cell_type": "code",
   "execution_count": 4,
   "metadata": {},
   "outputs": [],
   "source": [
    "#Creating the variable Age using numpy random uniform distribution\n",
    "Age = np.random.uniform(18,40,240)\n",
    "df['Age'] = Age.round(0) #rounding the values on 0 decimal places and populating the dataset"
   ]
  },
  {
   "cell_type": "code",
   "execution_count": 5,
   "metadata": {},
   "outputs": [
    {
     "data": {
      "text/plain": [
       "(array([13.,  9., 11., 13., 12., 15., 13., 15., 11., 14., 13., 14., 10.,\n",
       "        10., 10.,  7., 10., 11.,  7., 22.]),\n",
       " array([18.03077851, 19.12806508, 20.22535165, 21.32263822, 22.41992479,\n",
       "        23.51721136, 24.61449793, 25.7117845 , 26.80907107, 27.90635764,\n",
       "        29.00364421, 30.10093078, 31.19821735, 32.29550392, 33.39279049,\n",
       "        34.49007706, 35.58736363, 36.6846502 , 37.78193677, 38.87922334,\n",
       "        39.97650991]),\n",
       " <a list of 20 Patch objects>)"
      ]
     },
     "execution_count": 5,
     "metadata": {},
     "output_type": "execute_result"
    },
    {
     "data": {
      "image/png": "[encoded data removed]",
      "text/plain": [
       "<Figure size 432x288 with 1 Axes>"
      ]
     },
     "metadata": {
      "needs_background": "light"
     },
     "output_type": "display_data"
    }
   ],
   "source": [
    "#Histogram of the variable Age\n",
    "plt.hist(Age, bins=20)"
   ]
  },
  {
   "cell_type": "code",
   "execution_count": 6,
   "metadata": {},
   "outputs": [
    {
     "name": "stdout",
     "output_type": "stream",
     "text": [
      "Mean: 28.91303965668773\n",
      "Standard deviation: 6.41826868199204\n"
     ]
    }
   ],
   "source": [
    "print(\"Mean:\", Age.mean())\n",
    "print(\"Standard deviation:\", Age.std())"
   ]
  },
  {
   "cell_type": "markdown",
   "metadata": {},
   "source": [
    "### Sex"
   ]
  },
  {
   "cell_type": "markdown",
   "metadata": {},
   "source": [
    "57% of the participants were men and 43% women."
   ]
  },
  {
   "cell_type": "code",
   "execution_count": 7,
   "metadata": {},
   "outputs": [],
   "source": [
    "#creating the Male/Female objects\n",
    "sex = ['Male','Female']\n",
    "#create variable Sex with 57% men and 43% women \n",
    "Sex = np.random.choice(sex, 240, p=[0.57,0.43]) "
   ]
  },
  {
   "cell_type": "code",
   "execution_count": 8,
   "metadata": {},
   "outputs": [
    {
     "data": {
      "text/plain": [
       "(array([137.,   0.,   0.,   0.,   0.,   0.,   0.,   0.,   0., 103.]),\n",
       " array([0. , 0.1, 0.2, 0.3, 0.4, 0.5, 0.6, 0.7, 0.8, 0.9, 1. ]),\n",
       " <a list of 10 Patch objects>)"
      ]
     },
     "execution_count": 8,
     "metadata": {},
     "output_type": "execute_result"
    },
    {
     "data": {
      "image/png": "[encoded data removed]",
      "text/plain": [
       "<Figure size 432x288 with 1 Axes>"
      ]
     },
     "metadata": {
      "needs_background": "light"
     },
     "output_type": "display_data"
    }
   ],
   "source": [
    "#histogram of the variable Sex\n",
    "plt.hist(Sex)"
   ]
  },
  {
   "cell_type": "code",
   "execution_count": 9,
   "metadata": {},
   "outputs": [],
   "source": [
    "#populating the dataset column 'Sex'\n",
    "df['Sex']= Sex"
   ]
  },
  {
   "cell_type": "markdown",
   "metadata": {},
   "source": [
    "### GPA"
   ]
  },
  {
   "cell_type": "markdown",
   "metadata": {},
   "source": [
    "GPA of the students is following the normal distribution, with an average of 3.0 and standard deviation of 0.32."
   ]
  },
  {
   "cell_type": "code",
   "execution_count": 10,
   "metadata": {},
   "outputs": [
    {
     "data": {
      "text/plain": [
       "(array([ 4., 11., 23., 44., 69., 52., 29.,  5.,  2.,  1.]),\n",
       " array([1.97281428, 2.19898692, 2.42515956, 2.6513322 , 2.87750484,\n",
       "        3.10367749, 3.32985013, 3.55602277, 3.78219541, 4.00836805,\n",
       "        4.2345407 ]),\n",
       " <a list of 10 Patch objects>)"
      ]
     },
     "execution_count": 10,
     "metadata": {},
     "output_type": "execute_result"
    },
    {
     "data": {
      "image/png": "[encoded data removed]",
      "text/plain": [
       "<Figure size 432x288 with 1 Axes>"
      ]
     },
     "metadata": {
      "needs_background": "light"
     },
     "output_type": "display_data"
    }
   ],
   "source": [
    "#generating GPA variable using numpy random normal\n",
    "GPA = np.random.normal(3,0.32,240)\n",
    "plt.hist(GPA) #histogram of the generated values"
   ]
  },
  {
   "cell_type": "code",
   "execution_count": 11,
   "metadata": {},
   "outputs": [],
   "source": [
    "df['GPA']= GPA #populating the dataset column"
   ]
  },
  {
   "cell_type": "markdown",
   "metadata": {},
   "source": [
    "### Sleep"
   ]
  },
  {
   "cell_type": "markdown",
   "metadata": {},
   "source": [
    "Students on average get 6.5 hours of sleep per night."
   ]
  },
  {
   "cell_type": "code",
   "execution_count": 12,
   "metadata": {},
   "outputs": [
    {
     "data": {
      "text/plain": [
       "(array([39.,  0., 38.,  0., 45.,  0., 43.,  0., 42., 33.]),\n",
       " array([4. , 4.5, 5. , 5.5, 6. , 6.5, 7. , 7.5, 8. , 8.5, 9. ]),\n",
       " <a list of 10 Patch objects>)"
      ]
     },
     "execution_count": 12,
     "metadata": {},
     "output_type": "execute_result"
    },
    {
     "data": {
      "image/png": "[encoded data removed]",
      "text/plain": [
       "<Figure size 432x288 with 1 Axes>"
      ]
     },
     "metadata": {
      "needs_background": "light"
     },
     "output_type": "display_data"
    }
   ],
   "source": [
    "#generating average hours of sleep by numpy randint function\n",
    "Sleep = np.random.randint(4,10,240) \n",
    "plt.hist(Sleep) #histogram of generated values"
   ]
  },
  {
   "cell_type": "code",
   "execution_count": 13,
   "metadata": {},
   "outputs": [
    {
     "name": "stdout",
     "output_type": "stream",
     "text": [
      "Mean: 6.458333333333333\n"
     ]
    }
   ],
   "source": [
    "#mean of the Sleep variable\n",
    "print(\"Mean:\", Sleep.mean())"
   ]
  },
  {
   "cell_type": "code",
   "execution_count": 14,
   "metadata": {},
   "outputs": [],
   "source": [
    "df['Sleep'] = Sleep #populating the dataset column"
   ]
  },
  {
   "cell_type": "markdown",
   "metadata": {},
   "source": [
    "### Exercise"
   ]
  },
  {
   "cell_type": "markdown",
   "metadata": {},
   "source": [
    "Studies show that people who don't exercise show higher depression symptoms than the ones who do exercise and it can be said that exercise has a positove impact on reducing depression. However, research shows that a big percentage of students exercise less than 1 day a week or not at all. "
   ]
  },
  {
   "cell_type": "code",
   "execution_count": 15,
   "metadata": {},
   "outputs": [],
   "source": [
    "#creating a list of average exercise per week, in days\n",
    "avg_exercise = [0,1,2,3,4,5,6,7]\n",
    "#creating a variable Exercise with certain probabilities attatched to each value in the list \n",
    "Exercise = np.random.choice(avg_exercise, 240, p=[0.2,0.3,0.07,0.2,0.2,0.01,0.01,0.01])"
   ]
  },
  {
   "cell_type": "code",
   "execution_count": 16,
   "metadata": {},
   "outputs": [
    {
     "data": {
      "text/plain": [
       "(array([54., 60., 21., 44., 54.,  4.,  3.]),\n",
       " array([0., 1., 2., 3., 4., 5., 6., 7.]),\n",
       " <a list of 7 Patch objects>)"
      ]
     },
     "execution_count": 16,
     "metadata": {},
     "output_type": "execute_result"
    },
    {
     "data": {
      "image/png": "[encoded data removed]",
      "text/plain": [
       "<Figure size 432x288 with 1 Axes>"
      ]
     },
     "metadata": {
      "needs_background": "light"
     },
     "output_type": "display_data"
    }
   ],
   "source": [
    "plt.hist(Exercise, bins=7)"
   ]
  },
  {
   "cell_type": "code",
   "execution_count": 17,
   "metadata": {},
   "outputs": [],
   "source": [
    "df['Exercise'] = Exercise #populating the dataset column"
   ]
  },
  {
   "cell_type": "markdown",
   "metadata": {},
   "source": [
    "### Social support"
   ]
  },
  {
   "cell_type": "markdown",
   "metadata": {},
   "source": [
    "It might be difficult for international students to replace the social netwoek of family, neighbors and friends that they had in their home environment. It is suggested that social support and related variables such as social network  satisfaction,  perceived  social  network,  and  needed support are related to international students’ adjustment levels, life satisfaction, acculturative stress, reactions to stressors, and depressive symptoms."
   ]
  },
  {
   "cell_type": "code",
   "execution_count": 18,
   "metadata": {},
   "outputs": [
    {
     "data": {
      "text/plain": [
       "(array([28., 28., 29., 20., 25., 17., 27., 19., 22., 25.]),\n",
       " array([0.37010609, 0.39904995, 0.42799381, 0.45693766, 0.48588152,\n",
       "        0.51482538, 0.54376923, 0.57271309, 0.60165695, 0.6306008 ,\n",
       "        0.65954466]),\n",
       " <a list of 10 Patch objects>)"
      ]
     },
     "execution_count": 18,
     "metadata": {},
     "output_type": "execute_result"
    },
    {
     "data": {
      "image/png": "[encoded data removed]",
      "text/plain": [
       "<Figure size 432x288 with 1 Axes>"
      ]
     },
     "metadata": {
      "needs_background": "light"
     },
     "output_type": "display_data"
    }
   ],
   "source": [
    "Soc_support = np.random.uniform(0.37,0.66,240)\n",
    "plt.hist(Soc_support)"
   ]
  },
  {
   "cell_type": "code",
   "execution_count": 19,
   "metadata": {},
   "outputs": [
    {
     "name": "stdout",
     "output_type": "stream",
     "text": [
      "Mean: 0.5074923619227906\n"
     ]
    }
   ],
   "source": [
    "print(\"Mean:\", Soc_support.mean())"
   ]
  },
  {
   "cell_type": "code",
   "execution_count": 20,
   "metadata": {},
   "outputs": [],
   "source": [
    "df['Soc_support'] = Soc_support #populating the dataset column"
   ]
  },
  {
   "cell_type": "markdown",
   "metadata": {},
   "source": [
    "### Stress"
   ]
  },
  {
   "cell_type": "code",
   "execution_count": 21,
   "metadata": {},
   "outputs": [
    {
     "data": {
      "text/plain": [
       "(array([61.,  0., 92.,  0., 87.]),\n",
       " array([0. , 0.4, 0.8, 1.2, 1.6, 2. ]),\n",
       " <a list of 5 Patch objects>)"
      ]
     },
     "execution_count": 21,
     "metadata": {},
     "output_type": "execute_result"
    },
    {
     "data": {
      "image/png": "[encoded data removed]",
      "text/plain": [
       "<Figure size 432x288 with 1 Axes>"
      ]
     },
     "metadata": {
      "needs_background": "light"
     },
     "output_type": "display_data"
    }
   ],
   "source": [
    "#create objects for stress levels\n",
    "stress = ['low', 'moderate', 'high']\n",
    "#create variable Stress with certain probabilities\n",
    "Stress = np.random.choice(stress, 240, p=[0.3,0.4,0.3])\n",
    "plt.hist(Stress, bins=5) #histogram of the variable Stress"
   ]
  },
  {
   "cell_type": "code",
   "execution_count": 22,
   "metadata": {},
   "outputs": [],
   "source": [
    "df['Stress'] = Stress #populating the dataset column"
   ]
  },
  {
   "cell_type": "markdown",
   "metadata": {},
   "source": [
    "### Depression"
   ]
  },
  {
   "cell_type": "markdown",
   "metadata": {},
   "source": [
    "Finally,the Depression variable, which can take values of 'Low or none', 'Moderate' or 'High'."
   ]
  },
  {
   "cell_type": "code",
   "execution_count": 43,
   "metadata": {},
   "outputs": [],
   "source": [
    "#creating the variable Depression which depends on the value of social support\n",
    "depression = []\n",
    "for index, row in df.iterrows():\n",
    "    if row.Soc_support < 0.47:\n",
    "        depression.append(np.random.uniform(60,91))\n",
    "    elif row.Soc_support > 0.56:\n",
    "        depression.append(np.random.uniform(0,31))\n",
    "    else:\n",
    "        depression.append(np.random.randint(20,71))\n",
    "        \n",
    "df['Depression'] = depression"
   ]
  },
  {
   "cell_type": "markdown",
   "metadata": {},
   "source": [
    "## Dataset overview"
   ]
  },
  {
   "cell_type": "code",
   "execution_count": 44,
   "metadata": {},
   "outputs": [
    {
     "data": {
      "text/html": [
       "<div>\n",
       "<style scoped>\n",
       "    .dataframe tbody tr th:only-of-type {\n",
       "        vertical-align: middle;\n",
       "    }\n",
       "\n",
       "    .dataframe tbody tr th {\n",
       "        vertical-align: top;\n",
       "    }\n",
       "\n",
       "    .dataframe thead th {\n",
       "        text-align: right;\n",
       "    }\n",
       "</style>\n",
       "<table border=\"1\" class=\"dataframe\">\n",
       "  <thead>\n",
       "    <tr style=\"text-align: right;\">\n",
       "      <th></th>\n",
       "      <th>Age</th>\n",
       "      <th>Sex</th>\n",
       "      <th>GPA</th>\n",
       "      <th>Sleep</th>\n",
       "      <th>Exercise</th>\n",
       "      <th>Soc_support</th>\n",
       "      <th>Stress</th>\n",
       "      <th>Depression</th>\n",
       "    </tr>\n",
       "  </thead>\n",
       "  <tbody>\n",
       "    <tr>\n",
       "      <th>0</th>\n",
       "      <td>30.0</td>\n",
       "      <td>Male</td>\n",
       "      <td>2.993881</td>\n",
       "      <td>8</td>\n",
       "      <td>4</td>\n",
       "      <td>0.541550</td>\n",
       "      <td>high</td>\n",
       "      <td>51.000000</td>\n",
       "    </tr>\n",
       "    <tr>\n",
       "      <th>1</th>\n",
       "      <td>24.0</td>\n",
       "      <td>Female</td>\n",
       "      <td>3.317741</td>\n",
       "      <td>7</td>\n",
       "      <td>0</td>\n",
       "      <td>0.581358</td>\n",
       "      <td>moderate</td>\n",
       "      <td>3.346389</td>\n",
       "    </tr>\n",
       "    <tr>\n",
       "      <th>2</th>\n",
       "      <td>27.0</td>\n",
       "      <td>Male</td>\n",
       "      <td>2.958529</td>\n",
       "      <td>4</td>\n",
       "      <td>3</td>\n",
       "      <td>0.642674</td>\n",
       "      <td>high</td>\n",
       "      <td>25.711389</td>\n",
       "    </tr>\n",
       "    <tr>\n",
       "      <th>3</th>\n",
       "      <td>37.0</td>\n",
       "      <td>Female</td>\n",
       "      <td>2.945334</td>\n",
       "      <td>5</td>\n",
       "      <td>3</td>\n",
       "      <td>0.436409</td>\n",
       "      <td>low</td>\n",
       "      <td>66.779493</td>\n",
       "    </tr>\n",
       "    <tr>\n",
       "      <th>4</th>\n",
       "      <td>18.0</td>\n",
       "      <td>Male</td>\n",
       "      <td>3.252937</td>\n",
       "      <td>5</td>\n",
       "      <td>3</td>\n",
       "      <td>0.557845</td>\n",
       "      <td>low</td>\n",
       "      <td>59.000000</td>\n",
       "    </tr>\n",
       "  </tbody>\n",
       "</table>\n",
       "</div>"
      ],
      "text/plain": [
       "    Age     Sex       GPA  Sleep  Exercise  Soc_support    Stress  Depression\n",
       "0  30.0    Male  2.993881      8         4     0.541550      high   51.000000\n",
       "1  24.0  Female  3.317741      7         0     0.581358  moderate    3.346389\n",
       "2  27.0    Male  2.958529      4         3     0.642674      high   25.711389\n",
       "3  37.0  Female  2.945334      5         3     0.436409       low   66.779493\n",
       "4  18.0    Male  3.252937      5         3     0.557845       low   59.000000"
      ]
     },
     "execution_count": 44,
     "metadata": {},
     "output_type": "execute_result"
    }
   ],
   "source": [
    "df.head() #take a look at the first few lines of the dataset"
   ]
  },
  {
   "cell_type": "code",
   "execution_count": 33,
   "metadata": {},
   "outputs": [
    {
     "data": {
      "text/html": [
       "<div>\n",
       "<style scoped>\n",
       "    .dataframe tbody tr th:only-of-type {\n",
       "        vertical-align: middle;\n",
       "    }\n",
       "\n",
       "    .dataframe tbody tr th {\n",
       "        vertical-align: top;\n",
       "    }\n",
       "\n",
       "    .dataframe thead th {\n",
       "        text-align: right;\n",
       "    }\n",
       "</style>\n",
       "<table border=\"1\" class=\"dataframe\">\n",
       "  <thead>\n",
       "    <tr style=\"text-align: right;\">\n",
       "      <th></th>\n",
       "      <th>Age</th>\n",
       "      <th>GPA</th>\n",
       "      <th>Sleep</th>\n",
       "      <th>Exercise</th>\n",
       "      <th>Soc_support</th>\n",
       "      <th>Depression</th>\n",
       "    </tr>\n",
       "  </thead>\n",
       "  <tbody>\n",
       "    <tr>\n",
       "      <th>count</th>\n",
       "      <td>240.000000</td>\n",
       "      <td>240.000000</td>\n",
       "      <td>240.000000</td>\n",
       "      <td>240.000000</td>\n",
       "      <td>240.000000</td>\n",
       "      <td>240.000000</td>\n",
       "    </tr>\n",
       "    <tr>\n",
       "      <th>mean</th>\n",
       "      <td>28.962500</td>\n",
       "      <td>2.993320</td>\n",
       "      <td>6.458333</td>\n",
       "      <td>2.037500</td>\n",
       "      <td>0.507492</td>\n",
       "      <td>47.993295</td>\n",
       "    </tr>\n",
       "    <tr>\n",
       "      <th>std</th>\n",
       "      <td>6.454431</td>\n",
       "      <td>0.346920</td>\n",
       "      <td>1.651148</td>\n",
       "      <td>1.621847</td>\n",
       "      <td>0.085877</td>\n",
       "      <td>26.697879</td>\n",
       "    </tr>\n",
       "    <tr>\n",
       "      <th>min</th>\n",
       "      <td>18.000000</td>\n",
       "      <td>1.972814</td>\n",
       "      <td>4.000000</td>\n",
       "      <td>0.000000</td>\n",
       "      <td>0.370106</td>\n",
       "      <td>0.000453</td>\n",
       "    </tr>\n",
       "    <tr>\n",
       "      <th>25%</th>\n",
       "      <td>24.000000</td>\n",
       "      <td>2.782749</td>\n",
       "      <td>5.000000</td>\n",
       "      <td>1.000000</td>\n",
       "      <td>0.430824</td>\n",
       "      <td>25.301728</td>\n",
       "    </tr>\n",
       "    <tr>\n",
       "      <th>50%</th>\n",
       "      <td>29.000000</td>\n",
       "      <td>3.004726</td>\n",
       "      <td>6.000000</td>\n",
       "      <td>2.000000</td>\n",
       "      <td>0.505887</td>\n",
       "      <td>46.489641</td>\n",
       "    </tr>\n",
       "    <tr>\n",
       "      <th>75%</th>\n",
       "      <td>34.000000</td>\n",
       "      <td>3.248329</td>\n",
       "      <td>8.000000</td>\n",
       "      <td>4.000000</td>\n",
       "      <td>0.582102</td>\n",
       "      <td>71.074744</td>\n",
       "    </tr>\n",
       "    <tr>\n",
       "      <th>max</th>\n",
       "      <td>40.000000</td>\n",
       "      <td>4.234541</td>\n",
       "      <td>9.000000</td>\n",
       "      <td>7.000000</td>\n",
       "      <td>0.659545</td>\n",
       "      <td>90.577941</td>\n",
       "    </tr>\n",
       "  </tbody>\n",
       "</table>\n",
       "</div>"
      ],
      "text/plain": [
       "              Age         GPA       Sleep    Exercise  Soc_support  Depression\n",
       "count  240.000000  240.000000  240.000000  240.000000   240.000000  240.000000\n",
       "mean    28.962500    2.993320    6.458333    2.037500     0.507492   47.993295\n",
       "std      6.454431    0.346920    1.651148    1.621847     0.085877   26.697879\n",
       "min     18.000000    1.972814    4.000000    0.000000     0.370106    0.000453\n",
       "25%     24.000000    2.782749    5.000000    1.000000     0.430824   25.301728\n",
       "50%     29.000000    3.004726    6.000000    2.000000     0.505887   46.489641\n",
       "75%     34.000000    3.248329    8.000000    4.000000     0.582102   71.074744\n",
       "max     40.000000    4.234541    9.000000    7.000000     0.659545   90.577941"
      ]
     },
     "execution_count": 33,
     "metadata": {},
     "output_type": "execute_result"
    }
   ],
   "source": [
    "df.describe() #some statistic the numeric variables of my dataset"
   ]
  },
  {
   "cell_type": "markdown",
   "metadata": {},
   "source": [
    "## Relationship between variables"
   ]
  },
  {
   "cell_type": "markdown",
   "metadata": {},
   "source": [
    "We can test whether there is a relationship between social support and depression. From the plot below, we can see that there is some kind of relationship between two variables but for better understending what kind of relationship it is I will do a linear regression with *Depression* as dependant variable and *Soc_support* as independent variable."
   ]
  },
  {
   "cell_type": "code",
   "execution_count": 48,
   "metadata": {},
   "outputs": [
    {
     "data": {
      "text/plain": [
       "<matplotlib.axes._subplots.AxesSubplot at 0x27579ece0f0>"
      ]
     },
     "execution_count": 48,
     "metadata": {},
     "output_type": "execute_result"
    },
    {
     "data": {
      "image/png": "[encoded data removed]",
      "text/plain": [
       "<Figure size 432x288 with 1 Axes>"
      ]
     },
     "metadata": {
      "needs_background": "light"
     },
     "output_type": "display_data"
    }
   ],
   "source": [
    "#scatterplot of variables Soc_support and Depression\n",
    "sns.scatterplot(data=df, x='Soc_support',y='Depression')"
   ]
  },
  {
   "cell_type": "markdown",
   "metadata": {},
   "source": [
    "## Linear regression "
   ]
  },
  {
   "cell_type": "markdown",
   "metadata": {},
   "source": [
    "As I said, I will run the linear regression with *Depression* as a dependent (y) variable and *Soc_support* as independent, i.e. explainatory (x) variable. "
   ]
  },
  {
   "cell_type": "code",
   "execution_count": 52,
   "metadata": {},
   "outputs": [],
   "source": [
    "from sklearn.linear_model import LinearRegression"
   ]
  },
  {
   "cell_type": "code",
   "execution_count": 54,
   "metadata": {},
   "outputs": [
    {
     "name": "stdout",
     "output_type": "stream",
     "text": [
      "intercept: [185.54086229]\n",
      "slope: [[-270.98272477]]\n"
     ]
    }
   ],
   "source": [
    "# providing data for regression\n",
    "#calling reshape because the variables are required to be two-dimensional \n",
    "x = df['Soc_support'].values.reshape(-1,1) \n",
    "y = df['Depression'].values.reshape(-1,1)\n",
    "\n",
    "#creating variable 'model' as a linear regression model\n",
    "model = LinearRegression()\n",
    "\n",
    "#fitting the model\n",
    "#calculates the optimal values of the weights 𝑏₀ and 𝑏₁\n",
    "#using the existing input and output (x and y) as the arguments\n",
    "model.fit(x, y)\n",
    "\n",
    "#intercept of the model 𝑏₀ \n",
    "print('intercept:', model.intercept_)\n",
    "#coefficient of the model 𝑏₁\n",
    "print('slope:', model.coef_)\n"
   ]
  },
  {
   "cell_type": "markdown",
   "metadata": {},
   "source": [
    "Since the differences between units within each variables are different, we cannot nicely interpret the results, but only read the sign of the coefficient.  \n",
    "Negative coefficient implies negative relationship between social support and depression.  \n",
    "However, we can try to **predict** the depression level given the social support level."
   ]
  },
  {
   "cell_type": "code",
   "execution_count": 56,
   "metadata": {},
   "outputs": [
    {
     "name": "stdout",
     "output_type": "stream",
     "text": [
      "predicted depression level:\n",
      "[[38.79007724]\n",
      " [28.00283331]\n",
      " [11.38726077]\n",
      " [67.28157046]\n",
      " [34.37445095]\n",
      " [66.30798252]\n",
      " [75.9050317 ]\n",
      " [35.81024221]\n",
      " [ 7.05794148]\n",
      " [78.64338103]\n",
      " [ 9.29525834]\n",
      " [76.26471196]\n",
      " [82.3123303 ]\n",
      " [36.72161213]\n",
      " [81.68569988]\n",
      " [82.90153143]\n",
      " [11.49509142]\n",
      " [73.89472925]\n",
      " [80.57334463]\n",
      " [27.15861501]\n",
      " [45.70522578]\n",
      " [44.12441316]\n",
      " [58.59586083]\n",
      " [49.89383619]\n",
      " [13.04522777]\n",
      " [26.79874431]\n",
      " [68.15400784]\n",
      " [11.83408145]\n",
      " [48.41675949]\n",
      " [32.73186329]\n",
      " [70.24918804]\n",
      " [33.99542896]\n",
      " [81.27388478]\n",
      " [70.05150028]\n",
      " [29.95498226]\n",
      " [39.37953118]\n",
      " [72.83430644]\n",
      " [17.15939979]\n",
      " [17.59086661]\n",
      " [13.38937669]\n",
      " [69.07438015]\n",
      " [47.90489106]\n",
      " [52.29512631]\n",
      " [45.92878115]\n",
      " [67.25115921]\n",
      " [22.68404543]\n",
      " [26.18167118]\n",
      " [53.27622565]\n",
      " [46.8841223 ]\n",
      " [78.05604919]\n",
      " [71.4059073 ]\n",
      " [74.3860062 ]\n",
      " [69.95492621]\n",
      " [47.72978247]\n",
      " [46.13640715]\n",
      " [81.147236  ]\n",
      " [41.91443286]\n",
      " [21.12589348]\n",
      " [ 9.29599537]\n",
      " [21.55380503]\n",
      " [18.00377679]\n",
      " [60.80607544]\n",
      " [81.36797231]\n",
      " [37.17469769]\n",
      " [76.22734889]\n",
      " [78.10588605]\n",
      " [19.65569802]\n",
      " [77.36055658]\n",
      " [42.9186589 ]\n",
      " [83.86306331]\n",
      " [55.86168295]\n",
      " [39.29527732]\n",
      " [32.11535284]\n",
      " [58.51695162]\n",
      " [32.16421464]\n",
      " [ 7.0714163 ]\n",
      " [13.31337166]\n",
      " [13.29261192]\n",
      " [16.27940248]\n",
      " [26.80647929]\n",
      " [77.28420231]\n",
      " [58.55783648]\n",
      " [64.28434414]\n",
      " [56.36607038]\n",
      " [73.97795213]\n",
      " [83.18033481]\n",
      " [36.78397889]\n",
      " [66.38006961]\n",
      " [48.34131039]\n",
      " [44.32146868]\n",
      " [54.75953469]\n",
      " [29.77860924]\n",
      " [46.61290637]\n",
      " [82.65856227]\n",
      " [10.0750877 ]\n",
      " [48.49191366]\n",
      " [17.93542602]\n",
      " [37.99778286]\n",
      " [44.16717344]\n",
      " [64.28662084]\n",
      " [42.2272472 ]\n",
      " [55.04865729]\n",
      " [64.37216566]\n",
      " [ 9.96429475]\n",
      " [37.11494918]\n",
      " [40.92957515]\n",
      " [66.94367325]\n",
      " [37.35722813]\n",
      " [46.0504141 ]\n",
      " [17.64933322]\n",
      " [22.38493095]\n",
      " [24.51199301]\n",
      " [84.71361335]\n",
      " [66.76992073]\n",
      " [22.16721072]\n",
      " [15.90154062]\n",
      " [78.75920759]\n",
      " [71.1510889 ]\n",
      " [27.95550465]\n",
      " [14.1631281 ]\n",
      " [81.32819154]\n",
      " [19.09242584]\n",
      " [13.59774378]\n",
      " [37.60859205]\n",
      " [ 7.99754735]\n",
      " [62.43369165]\n",
      " [ 6.81565322]\n",
      " [73.94394115]\n",
      " [84.12336852]\n",
      " [77.01097235]\n",
      " [62.51470236]\n",
      " [75.64816083]\n",
      " [82.21670276]\n",
      " [56.32006618]\n",
      " [50.24927116]\n",
      " [ 8.29477618]\n",
      " [60.06051279]\n",
      " [13.19566148]\n",
      " [36.00095935]\n",
      " [54.44444891]\n",
      " [10.83450899]\n",
      " [15.27832715]\n",
      " [ 7.49635898]\n",
      " [77.22458978]\n",
      " [70.04314685]\n",
      " [30.7884109 ]\n",
      " [51.63718754]\n",
      " [73.29717269]\n",
      " [35.51640409]\n",
      " [49.9196643 ]\n",
      " [46.34952941]\n",
      " [62.14737628]\n",
      " [58.78457444]\n",
      " [27.8980773 ]\n",
      " [56.89162948]\n",
      " [63.35030762]\n",
      " [48.83189708]\n",
      " [69.5152217 ]\n",
      " [37.05362625]\n",
      " [65.4065415 ]\n",
      " [69.58983443]\n",
      " [80.06484986]\n",
      " [61.4271358 ]\n",
      " [69.25942287]\n",
      " [63.63613243]\n",
      " [57.82329495]\n",
      " [71.02252031]\n",
      " [53.05935661]\n",
      " [19.95448569]\n",
      " [21.71084469]\n",
      " [81.67413276]\n",
      " [25.52636555]\n",
      " [68.94235963]\n",
      " [36.93017587]\n",
      " [82.84623874]\n",
      " [63.26530769]\n",
      " [27.38233614]\n",
      " [83.91280541]\n",
      " [50.74684282]\n",
      " [67.14557991]\n",
      " [68.11740174]\n",
      " [34.01313691]\n",
      " [24.80652116]\n",
      " [13.9144373 ]\n",
      " [53.38404349]\n",
      " [35.2242446 ]\n",
      " [37.6732686 ]\n",
      " [62.10516354]\n",
      " [20.16605306]\n",
      " [64.72228691]\n",
      " [82.52966854]\n",
      " [75.95921188]\n",
      " [34.32330802]\n",
      " [36.7313753 ]\n",
      " [39.43787079]\n",
      " [57.43183035]\n",
      " [48.3077402 ]\n",
      " [50.49654209]\n",
      " [24.50380327]\n",
      " [42.8031755 ]\n",
      " [ 7.42169511]\n",
      " [80.92042421]\n",
      " [35.10770407]\n",
      " [30.6764875 ]\n",
      " [30.14761906]\n",
      " [36.70488187]\n",
      " [49.73547408]\n",
      " [82.16575669]\n",
      " [24.85844174]\n",
      " [17.9266244 ]\n",
      " [80.90804439]\n",
      " [57.19677907]\n",
      " [84.64242026]\n",
      " [67.52983745]\n",
      " [68.74592714]\n",
      " [19.91574169]\n",
      " [69.89520787]\n",
      " [51.97315795]\n",
      " [42.95697337]\n",
      " [74.89994588]\n",
      " [61.71641517]\n",
      " [21.00992683]\n",
      " [48.70884821]\n",
      " [45.75738131]\n",
      " [77.35506284]\n",
      " [64.6281644 ]\n",
      " [58.40896228]\n",
      " [12.94839143]\n",
      " [13.36500146]\n",
      " [38.27799623]\n",
      " [27.51052318]\n",
      " [16.00914082]\n",
      " [32.88946699]\n",
      " [22.30171545]\n",
      " [59.81867112]\n",
      " [65.17552937]\n",
      " [73.83896691]\n",
      " [69.69943571]\n",
      " [85.24850507]\n",
      " [24.07114512]]\n"
     ]
    }
   ],
   "source": [
    "#predicting the depression level given the social support level\n",
    "y_pred = model.predict(x)\n",
    "print('predicted depression level:', y_pred, sep='\\n')"
   ]
  },
  {
   "cell_type": "code",
   "execution_count": 58,
   "metadata": {},
   "outputs": [
    {
     "name": "stdout",
     "output_type": "stream",
     "text": [
      "[[20]\n",
      " [25]\n",
      " [30]\n",
      " [35]]\n",
      "[[-5234.11363316]\n",
      " [-6589.02725702]\n",
      " [-7943.94088088]\n",
      " [-9298.85450475]]\n"
     ]
    }
   ],
   "source": [
    "#making a new input\n",
    "x_new = np.arange(20,40,5).reshape((-1, 1))\n",
    "print(x_new)\n",
    "\n",
    "#predicting depression level given the new input\n",
    "y_new = model.predict(x_new)\n",
    "print(y_new)"
   ]
  },
  {
   "cell_type": "code",
   "execution_count": 59,
   "metadata": {},
   "outputs": [
    {
     "data": {
      "image/png": "[encoded data removed]",
      "text/plain": [
       "<Figure size 432x288 with 1 Axes>"
      ]
     },
     "metadata": {
      "needs_background": "light"
     },
     "output_type": "display_data"
    }
   ],
   "source": [
    "#scatter of inputs and outputs \n",
    "plt.scatter(x, y,  color='gray')\n",
    "#line plot of predicted outputs \n",
    "plt.plot(x, y_pred, color='red', linewidth=2)\n",
    "plt.show()"
   ]
  },
  {
   "cell_type": "markdown",
   "metadata": {},
   "source": [
    "The scatterplot above shows the linear relationship proven by the model with the best fit line."
   ]
  },
  {
   "cell_type": "markdown",
   "metadata": {},
   "source": [
    "### References"
   ]
  },
  {
   "cell_type": "markdown",
   "metadata": {},
   "source": [
    "[1]GMIT. (2019). Retrieved from https://www.gmit.ie/\n",
    "[2] 3.8.0 Documentation. Retrieved from https://docs.python.org/3/  \n",
    "[3] Project Jupyter. (n.d.). Retrieved from https://jupyter.org  \n",
    "[4] Sümer, S., Poyrazli, S., & Grahame, K. (2008). Predictors of Depression and Anxiety Among International Students. Journal of Counseling & Development, 86(4), 429–437.  \n",
    "[5] Andrews, B., & Wilding, J. M. (2004). The relation of depression and anxiety to life-stress and achievement in students. British Journal of Psychology, 95(4), 509–521.  \n",
    "[6] van Dinther, M., Dochy, F., & Segers, M. (2011). Factors affecting students’ self-efficacy in higher education. Educational Research Review, 6(2), 95–108.  \n",
    "[7] Ngin, C., Pal, K., Tuot, S., Chhoun, P., Yi, R., & Yi, S. (2018). Social and behavioural factors associated with depressive symptoms among university students in Cambodia: a cross-sectional study. BMJ Open.  \n",
    "[8]Random sampling (numpy.random) -  NumPy v1.14 Manual  \n",
    "https://docs.scipy.org/doc/numpy-1.14.1/reference/routines.random.html  \n",
    "[9] Stack overflow. numpy - how to generate random numbers to satisfy a specific mean and median in python?  \n",
    "https://stackoverflow.com/questions/49855569/how-to-generate-random-numbers-to-satisfy-a-specific-mean-and-median-in-python  \n",
    "[10] Stack overflow. numpy - Python Random Array of 0s and 1s.  \n",
    "https://stackoverflow.com/questions/26873415/python-random-array-of-0s-and-1s  \n",
    "[11] pyplot - Matplotlib 2.0.2. documentation  \n",
    "https://matplotlib.org/api/pyplot_api.html#matplotlib.pyplot.hist  \n"
   ]
  },
  {
   "cell_type": "code",
   "execution_count": null,
   "metadata": {},
   "outputs": [],
   "source": []
  }
 ],
 "metadata": {
  "kernelspec": {
   "display_name": "Python 3",
   "language": "python",
   "name": "python3"
  },
  "language_info": {
   "codemirror_mode": {
    "name": "ipython",
    "version": 3
   },
   "file_extension": ".py",
   "mimetype": "text/x-python",
   "name": "python",
   "nbconvert_exporter": "python",
   "pygments_lexer": "ipython3",
   "version": "3.7.1"
  }
 },
 "nbformat": 4,
 "nbformat_minor": 2
}
