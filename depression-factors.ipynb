{
 "cells": [
  {
   "cell_type": "markdown",
   "metadata": {},
   "source": [
    "# Project assignment\n",
    "### Programming for Data Analysis, GMIT\n",
    "###  December, 2019."
   ]
  },
  {
   "cell_type": "markdown",
   "metadata": {},
   "source": [
    "Major **depression** is one of the most common mental illnesses, affecting 6.7% (more than 16 million) of American adults each year and is widely spread among students. A lack of sleep, poor eating habits, and not enough exercise are a recipe for depression among college students. The stress that comes with academia — including financial worries, pressure to get a good job after school, and failed relationships — is enough to force some students to leave college or worse. For that reason, I have chosen depression among international students in United States to be the topic of my projects. I will base my simulated/synthesised dataset on the research paper on the topic as follows: *Predictors of Depression and Anxiety Among International Students*, written by Seda Sümer, Senel Poyrazli, and Kamini Grahame."
   ]
  },
  {
   "cell_type": "markdown",
   "metadata": {},
   "source": [
    "International students are often facing difficulties adjusting to new social and educational environment, which is causing aditional stress. This changes are sometimes followed by cultural shocks, language barriers, homesickness and other social difficulties. All of these circumstances lead to isolation and lonliness and in many cases, depression.  \n",
    "It is very important that those who do experience depression get all the support and help they need and that's why it is essential to raise awareness about this problem and try to recognise the causes, in order to prevent the same.  \n",
    "Therefore, we will analyse the potential causes of depression and their relationship with depression itself."
   ]
  },
  {
   "cell_type": "markdown",
   "metadata": {},
   "source": [
    "## Data"
   ]
  },
  {
   "cell_type": "markdown",
   "metadata": {},
   "source": [
    "Dataset will consist of 440 observations - international students participating in the study and all together 8 variables."
   ]
  },
  {
   "cell_type": "markdown",
   "metadata": {},
   "source": [
    "### Variables"
   ]
  },
  {
   "cell_type": "markdown",
   "metadata": {},
   "source": [
    "**Depression** - measured by the Goldberg Depression Scale (GDP; Goldberg, 1993; Holm, Holm, & Bech, 2001), highest score being 90 (most severe depression) and lowest being 0 (complete absence of depressiove symptoms)  \n",
    "**Age** - age of the student  \n",
    "**Sex** - dummy variable that is equal 1 if the participant is male  \n",
    "**GPA** - Grade Point Average, as a measure of the average grade of the student (1.5-4.00)  \n",
    "**Sleep** - average hours of sleep per night  \n",
    "**Exercise** - exercise per week (in hours)   \n",
    "**Social support** - measured by The Social Provisions Scale (SPS; Cutrona & Russell, 1987), includes attachment, social integration, reassurance of worth, reliable allience, guidence and opportunity for nurturance. A high score indicates a greater degree of percieved support with coefficients range 0.37 - 0.66.  \n",
    "**Level of stress** - low, moderate, high"
   ]
  },
  {
   "cell_type": "markdown",
   "metadata": {},
   "source": [
    "## Simulation of  variables"
   ]
  },
  {
   "cell_type": "code",
   "execution_count": 2,
   "metadata": {},
   "outputs": [],
   "source": [
    "#import libraries\n",
    "import pandas as pd\n",
    "import numpy as np\n",
    "import matplotlib.pyplot as plt\n",
    "%matplotlib inline"
   ]
  },
  {
   "cell_type": "markdown",
   "metadata": {},
   "source": [
    "### Age"
   ]
  },
  {
   "cell_type": "markdown",
   "metadata": {},
   "source": [
    "Participants were students of age 18 to 39, average of 29 years and standard deviation of 6.44."
   ]
  },
  {
   "cell_type": "code",
   "execution_count": 8,
   "metadata": {},
   "outputs": [],
   "source": [
    "#Setting the seed in order to reproduce the variable values in the future\n",
    "np.random.seed(100)"
   ]
  },
  {
   "cell_type": "code",
   "execution_count": 9,
   "metadata": {},
   "outputs": [
    {
     "name": "stdout",
     "output_type": "stream",
     "text": [
      "[30. 24. 27. 37. 18. 21. 33. 36. 21. 31. 38. 23. 22. 20. 23. 40. 36. 22.\n",
      " 36. 24. 27. 39. 36. 25. 22. 26. 18. 24. 36. 18. 31. 31. 20. 26. 19. 38.\n",
      " 40. 19. 38. 31. 34. 32. 31. 18. 23. 30. 35. 24. 24. 37. 39. 37. 26. 31.\n",
      " 26. 25. 22. 23. 19. 29. 26. 31. 32. 21. 39. 39. 31. 27. 26. 22. 24. 23.\n",
      " 22. 39. 39. 31. 34. 25. 20. 28. 29. 20. 30. 40. 27. 25. 36. 35. 25. 32.\n",
      " 30. 25. 20. 25. 28. 32. 24. 32. 22. 32. 35. 35. 31. 25. 33. 37. 32. 40.\n",
      " 39. 22. 19. 22. 38. 39. 23. 26. 30. 24. 28. 33. 29. 34. 30. 18. 27. 29.\n",
      " 27. 26. 29. 28. 20. 24. 39. 19. 19. 24. 31. 40. 40. 40. 20. 33. 30. 22.\n",
      " 39. 23. 40. 31. 22. 27. 22. 27. 31. 34. 29. 25. 31. 28. 26. 25. 23. 28.\n",
      " 29. 38. 34. 35. 26. 26. 32. 34. 20. 21. 28. 22. 39. 36. 29. 23. 21. 40.\n",
      " 34. 37. 27. 24. 25. 37. 28. 33. 36. 24. 20. 34. 39. 39. 29. 32. 34. 38.\n",
      " 22. 27. 27. 33. 27. 37. 37. 20. 25. 40. 19. 29. 39. 36. 24. 31. 27. 31.\n",
      " 38. 30. 29. 25. 24. 30. 20. 32. 36. 39. 33. 29. 29. 39. 23. 27. 40. 19.\n",
      " 33. 19. 25. 20. 19. 20.]\n"
     ]
    }
   ],
   "source": [
    "#Creating the variable Age using numpy random uniform distribution\n",
    "Age = np.random.uniform(18,40,240)\n",
    "Age = Age.round(0) #rounding the values on 0 decimal places\n",
    "print(Age)"
   ]
  },
  {
   "cell_type": "code",
   "execution_count": 78,
   "metadata": {},
   "outputs": [
    {
     "data": {
      "text/plain": [
       "(array([29., 22.,  9., 28., 14., 28., 29., 15., 15., 18., 35., 25., 12.,\n",
       "        33., 15., 28., 27., 13., 22., 23.]),\n",
       " array([18. , 19.6, 21.2, 22.8, 24.4, 26. , 27.6, 29.2, 30.8, 32.4, 34. ,\n",
       "        35.6, 37.2, 38.8, 40.4, 42. , 43.6, 45.2, 46.8, 48.4, 50. ]),\n",
       " <a list of 20 Patch objects>)"
      ]
     },
     "execution_count": 78,
     "metadata": {},
     "output_type": "execute_result"
    },
    {
     "data": {
      "image/png": "[encoded data removed]",
      "text/plain": [
       "<Figure size 432x288 with 1 Axes>"
      ]
     },
     "metadata": {
      "needs_background": "light"
     },
     "output_type": "display_data"
    }
   ],
   "source": [
    "#Histogram of the variable Age\n",
    "plt.hist(Age, bins=20)"
   ]
  },
  {
   "cell_type": "code",
   "execution_count": 10,
   "metadata": {},
   "outputs": [
    {
     "name": "stdout",
     "output_type": "stream",
     "text": [
      "Mean: 28.9625\n",
      "Standard deviation: 6.440969938603967\n"
     ]
    }
   ],
   "source": [
    "print(\"Mean:\", Age.mean())\n",
    "print(\"Standard deviation:\", Age.std())"
   ]
  },
  {
   "cell_type": "markdown",
   "metadata": {},
   "source": [
    "### Sex"
   ]
  },
  {
   "cell_type": "markdown",
   "metadata": {},
   "source": [
    "137 men and 103 women participated in the study.  \n",
    "Therefore, aproximately 57% of the participants were men and 43% women."
   ]
  },
  {
   "cell_type": "code",
   "execution_count": 21,
   "metadata": {},
   "outputs": [
    {
     "name": "stdout",
     "output_type": "stream",
     "text": [
      "[1 1 0 1 0 0 0 1 0 1 0 0 0 0 1 1 1 0 1 1 1 1 0 0 1 1 1 0 0 1 1 1 1 0 0 0 1\n",
      " 1 1 1 1 1 1 1 1 1 1 1 0 1 0 0 0 1 0 0 1 1 1 0 1 0 0 1 1 1 1 0 0 1 1 0 0 1\n",
      " 1 1 1 0 1 1 1 0 1 0 1 0 0 0 1 0 1 0 1 1 1 1 1 1 0 1 1 0 0 1 1 1 1 1 0 1 0\n",
      " 0 0 0 0 1 1 0 1 0 1 0 0 0 0 0 0 0 1 1 1 0 1 1 0 0 1 1 1 0 1 0 1 1 1 1 1 1\n",
      " 0 0 1 0 0 1 1 0 1 1 1 0 1 1 0 0 0 1 1 1 0 1 1 0 0 1 0 1 0 1 0 0 1 0 1 0 0\n",
      " 1 1 1 1 0 0 1 1 0 1 0 0 1 1 0 1 1 1 0 1 1 0 1 1 0 0 0 1 1 0 1 0 1 0 1 1 0\n",
      " 0 1 1 0 1 1 1 1 0 0 1 0 1 0 1 0 1 0]\n"
     ]
    }
   ],
   "source": [
    "#creating an array of ones and zeros, 1s being the male participants\n",
    "Sex = np.array([1]*137 + [0]*103)\n",
    "np.random.shuffle(Sex) #shuffle the outputs \n",
    "print(Sex)"
   ]
  },
  {
   "cell_type": "code",
   "execution_count": 20,
   "metadata": {},
   "outputs": [
    {
     "data": {
      "text/plain": [
       "137"
      ]
     },
     "execution_count": 20,
     "metadata": {},
     "output_type": "execute_result"
    }
   ],
   "source": [
    "#count the 1s in the array\n",
    "np.count_nonzero(Sex) "
   ]
  },
  {
   "cell_type": "markdown",
   "metadata": {},
   "source": [
    "### GPA"
   ]
  },
  {
   "cell_type": "markdown",
   "metadata": {},
   "source": [
    "GPA of the students is following the normal distribution, with an average of 3.0 and standard deviation of 0.35."
   ]
  },
  {
   "cell_type": "code",
   "execution_count": 40,
   "metadata": {},
   "outputs": [
    {
     "data": {
      "text/plain": [
       "(array([ 1.,  7.,  9., 41., 36., 58., 39., 30., 12.,  7.]),\n",
       " array([1.9829992 , 2.17152346, 2.36004771, 2.54857197, 2.73709623,\n",
       "        2.92562049, 3.11414475, 3.302669  , 3.49119326, 3.67971752,\n",
       "        3.86824178]),\n",
       " <a list of 10 Patch objects>)"
      ]
     },
     "execution_count": 40,
     "metadata": {},
     "output_type": "execute_result"
    },
    {
     "data": {
      "image/png": "[encoded data removed]",
      "text/plain": [
       "<Figure size 432x288 with 1 Axes>"
      ]
     },
     "metadata": {
      "needs_background": "light"
     },
     "output_type": "display_data"
    }
   ],
   "source": [
    "#generating GPA variable using numpy random normal\n",
    "GPA = np.random.normal(3,0.37,240)\n",
    "plt.hist(GPA) #histogram of the generated values"
   ]
  },
  {
   "cell_type": "code",
   "execution_count": 41,
   "metadata": {},
   "outputs": [
    {
     "name": "stdout",
     "output_type": "stream",
     "text": [
      "Mean: 3.0152771424702043\n",
      "Standard deviation: 0.3486559758079743\n"
     ]
    }
   ],
   "source": [
    "print(\"Mean:\", GPA.mean())\n",
    "print(\"Standard deviation:\", GPA.std())"
   ]
  },
  {
   "cell_type": "markdown",
   "metadata": {},
   "source": [
    "### Sleep"
   ]
  },
  {
   "cell_type": "markdown",
   "metadata": {},
   "source": [
    "Students on average get 7 hours of sleep per night."
   ]
  },
  {
   "cell_type": "code",
   "execution_count": 36,
   "metadata": {},
   "outputs": [
    {
     "data": {
      "text/plain": [
       "(array([47.,  0., 42.,  0.,  0., 44.,  0., 56.,  0., 51.]),\n",
       " array([5. , 5.4, 5.8, 6.2, 6.6, 7. , 7.4, 7.8, 8.2, 8.6, 9. ]),\n",
       " <a list of 10 Patch objects>)"
      ]
     },
     "execution_count": 36,
     "metadata": {},
     "output_type": "execute_result"
    },
    {
     "data": {
      "image/png": "[encoded data removed]",
      "text/plain": [
       "<Figure size 432x288 with 1 Axes>"
      ]
     },
     "metadata": {
      "needs_background": "light"
     },
     "output_type": "display_data"
    }
   ],
   "source": [
    "#generating average hours of sleep by numpy randint function\n",
    "Sleep = np.random.randint(5,10,240) \n",
    "plt.hist(Sleep) #histogram of generated values"
   ]
  },
  {
   "cell_type": "code",
   "execution_count": 43,
   "metadata": {},
   "outputs": [
    {
     "name": "stdout",
     "output_type": "stream",
     "text": [
      "Mean: 7.091666666666667\n"
     ]
    }
   ],
   "source": [
    "#mean of the Sleep variable\n",
    "print(\"Mean:\", Sleep.mean())"
   ]
  },
  {
   "cell_type": "markdown",
   "metadata": {},
   "source": [
    "### Exercise"
   ]
  },
  {
   "cell_type": "code",
   "execution_count": null,
   "metadata": {},
   "outputs": [],
   "source": []
  },
  {
   "cell_type": "markdown",
   "metadata": {},
   "source": [
    "### References"
   ]
  },
  {
   "cell_type": "markdown",
   "metadata": {},
   "source": [
    "[1]GMIT. (2019). Retrieved from https://www.gmit.ie/\n",
    "[2] 3.8.0 Documentation. Retrieved from https://docs.python.org/3/  \n",
    "[3] Project Jupyter. (n.d.). Retrieved from https://jupyter.org  \n",
    "[4] Sümer, S., Poyrazli, S., & Grahame, K. (2008). Predictors of Depression and Anxiety Among International Students. Journal of Counseling & Development, 86(4), 429–437.  \n",
    "[5] Andrews, B., & Wilding, J. M. (2004). The relation of depression and anxiety to life-stress and achievement in students. British Journal of Psychology, 95(4), 509–521.  \n",
    "[6] van Dinther, M., Dochy, F., & Segers, M. (2011). Factors affecting students’ self-efficacy in higher education. Educational Research Review, 6(2), 95–108.  \n",
    "[7] Ngin, C., Pal, K., Tuot, S., Chhoun, P., Yi, R., & Yi, S. (2018). Social and behavioural factors associated with depressive symptoms among university students in Cambodia: a cross-sectional study. BMJ Open.  \n",
    "[8]Random sampling (numpy.random) -  NumPy v1.14 Manual  \n",
    "https://docs.scipy.org/doc/numpy-1.14.1/reference/routines.random.html  \n",
    "[9] Stack overflow. numpy - how to generate random numbers to satisfy a specific mean and median in python?  \n",
    "https://stackoverflow.com/questions/49855569/how-to-generate-random-numbers-to-satisfy-a-specific-mean-and-median-in-python  \n",
    "[10] Stack overflow. numpy - Python Random Array of 0s and 1s.  \n",
    "https://stackoverflow.com/questions/26873415/python-random-array-of-0s-and-1s  "
   ]
  },
  {
   "cell_type": "code",
   "execution_count": null,
   "metadata": {},
   "outputs": [],
   "source": []
  }
 ],
 "metadata": {
  "kernelspec": {
   "display_name": "Python 3",
   "language": "python",
   "name": "python3"
  },
  "language_info": {
   "codemirror_mode": {
    "name": "ipython",
    "version": 3
   },
   "file_extension": ".py",
   "mimetype": "text/x-python",
   "name": "python",
   "nbconvert_exporter": "python",
   "pygments_lexer": "ipython3",
   "version": "3.7.1"
  }
 },
 "nbformat": 4,
 "nbformat_minor": 2
}
