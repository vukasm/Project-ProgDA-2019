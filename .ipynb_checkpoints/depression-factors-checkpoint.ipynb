{
 "cells": [
  {
   "cell_type": "markdown",
   "metadata": {},
   "source": [
    "# Project assignment\n",
    "### Programming for Data Analysis, GMIT\n",
    "###  December, 2019."
   ]
  },
  {
   "cell_type": "markdown",
   "metadata": {},
   "source": [
    "Major **depression** is one of the most common mental illnesses, affecting 6.7% (more than 16 million) of American adults each year and is widely spread among students. A lack of sleep, poor eating habits, and not enough exercise are a recipe for depression among college students. The stress that comes with academia — including financial worries, pressure to get a good job after school, and failed relationships — is enough to force some students to leave college or worse. For that reason, I have chosen depression among international students in United States to be the topic of my projects. I will base my simulated/synthesised dataset on the research paper on the topic as follows: *Predictors of Depression and Anxiety Among International Students*, written by Seda Sümer, Senel Poyrazli, and Kamini Grahame."
   ]
  },
  {
   "cell_type": "markdown",
   "metadata": {},
   "source": [
    "International students are often facing difficulties adjusting to new social and educational environment, which is causing aditional stress. This changes are sometimes followed by cultural shocks, language barriers, homesickness and other social difficulties. All of these circumstances lead to isolation and lonliness and in many cases, depression.  \n",
    "It is very important that those who do experience depression get all the support and help they need and that's why it is essential to raise awareness about this problem and try to recognise the causes, in order to prevent the same.  \n",
    "Therefore, we will analyse the potential causes of depression and their relationship with depression itself."
   ]
  },
  {
   "cell_type": "markdown",
   "metadata": {},
   "source": [
    "## Data"
   ]
  },
  {
   "cell_type": "markdown",
   "metadata": {},
   "source": [
    "Dataset will consist of 440 observations - international students participating in the study and all together 8 variables."
   ]
  },
  {
   "cell_type": "markdown",
   "metadata": {},
   "source": [
    "### Variables"
   ]
  },
  {
   "cell_type": "markdown",
   "metadata": {},
   "source": [
    "**Depression** - measured by the Goldberg Depression Scale (GDP; Goldberg, 1993; Holm, Holm, & Bech, 2001), highest score being 90 (most severe depression) and lowest being 0 (complete absence of depressiove symptoms)  \n",
    "**Age** - age of the student  \n",
    "**Sex** - Male/Female  \n",
    "**GPA** - Grade Point Average, as a measure of the average grade of the student (1.5-4.00)  \n",
    "**Sleep** - average hours of sleep per night  \n",
    "**Exercise** - exercise per week (in hours)   \n",
    "**Social support** - measured by The Social Provisions Scale (SPS; Cutrona & Russell, 1987), includes attachment, social integration, reassurance of worth, reliable allience, guidence and opportunity for nurturance. A high score indicates a greater degree of percieved support with coefficients range 0.37 - 0.66.  \n",
    "**Level of stress** - low, moderate, high"
   ]
  },
  {
   "cell_type": "markdown",
   "metadata": {},
   "source": [
    "## Simulation of  variables"
   ]
  },
  {
   "cell_type": "code",
   "execution_count": 4,
   "metadata": {},
   "outputs": [],
   "source": [
    "#import libraries\n",
    "import pandas as pd\n",
    "import numpy as np\n",
    "import matplotlib.pyplot as plt\n",
    "%matplotlib inline"
   ]
  },
  {
   "cell_type": "markdown",
   "metadata": {},
   "source": [
    "### Age"
   ]
  },
  {
   "cell_type": "markdown",
   "metadata": {},
   "source": [
    "Participants were students of age 18 to 49, average of 26 years and standard deviation of 4.78."
   ]
  },
  {
   "cell_type": "code",
   "execution_count": 80,
   "metadata": {},
   "outputs": [],
   "source": [
    "#Setting the seed in order to reproduce the variable values in the future\n",
    "np.random.seed(100)"
   ]
  },
  {
   "cell_type": "code",
   "execution_count": 81,
   "metadata": {},
   "outputs": [
    {
     "name": "stdout",
     "output_type": "stream",
     "text": [
      "[35. 27. 32. 45. 18. 22. 39. 44. 22. 36. 47. 25. 24. 21. 25. 49. 44. 24.\n",
      " 44. 27. 32. 48. 44. 29. 24. 30. 18. 26. 43. 18. 37. 37. 21. 30. 19. 46.\n",
      " 49. 20. 46. 36. 42. 38. 37. 19. 25. 35. 43. 26. 27. 45. 49. 46. 30. 37.\n",
      " 29. 29. 24. 26. 19. 34. 30. 37. 38. 23. 48. 48. 37. 30. 30. 25. 27. 26.\n",
      " 24. 49. 49. 37. 41. 29. 21. 33. 34. 21. 35. 50. 31. 29. 44. 42. 28. 38.\n",
      " 35. 27. 22. 28. 33. 39. 26. 39. 24. 39. 43. 43. 38. 28. 40. 46. 38. 49.\n",
      " 49. 23. 19. 23. 48. 49. 25. 30. 36. 27. 33. 40. 34. 41. 35. 18. 31. 34.\n",
      " 31. 29. 34. 32. 21. 27. 48. 19. 19. 27. 37. 50. 50. 50. 22. 39. 35. 24.\n",
      " 48. 26. 50. 37. 24. 30. 24. 31. 37. 41. 34. 28. 36. 32. 30. 28. 25. 32.\n",
      " 34. 47. 41. 43. 30. 29. 39. 41. 22. 22. 33. 23. 49. 45. 35. 25. 22. 49.\n",
      " 41. 46. 30. 26. 28. 45. 33. 39. 44. 26. 21. 41. 49. 49. 34. 38. 41. 47.\n",
      " 23. 31. 31. 40. 32. 45. 45. 20. 28. 49. 19. 34. 48. 44. 27. 37. 32. 37.\n",
      " 47. 36. 34. 28. 26. 35. 21. 38. 43. 49. 40. 34. 34. 49. 25. 31. 50. 19.\n",
      " 40. 19. 28. 20. 20. 22. 23. 38. 32. 45. 26. 24. 41. 45. 36. 41. 37. 36.\n",
      " 46. 47. 45. 26. 46. 32. 41. 31. 24. 41. 26. 45. 44. 35. 30. 37. 22. 44.\n",
      " 49. 43. 26. 46. 44. 20. 25. 37. 22. 40. 50. 27. 42. 19. 29. 48. 38. 37.\n",
      " 48. 24. 19. 24. 35. 34. 44. 46. 25. 32. 31. 20. 18. 43. 27. 41. 31. 23.\n",
      " 24. 28. 44. 18. 20. 36. 40. 41. 33. 30. 45. 33. 28. 21. 20. 21. 40. 40.\n",
      " 26. 38. 20. 46. 22. 23. 33. 43. 45. 25. 20. 43. 36. 43. 47. 33. 33. 37.\n",
      " 37. 34. 28. 35. 48. 49. 31. 44. 38. 25. 20. 19. 22. 25. 45. 27. 43. 34.\n",
      " 22. 43. 47. 48. 41. 40. 35. 30. 49. 20. 47. 26. 36. 34. 36. 39. 24. 27.\n",
      " 23. 19. 48. 29. 22. 30. 30. 39. 26. 39. 21. 37. 21. 36. 35. 27. 33. 19.\n",
      " 37. 18. 34. 34. 20. 48. 37. 40. 33. 41. 24. 39. 36. 49. 43. 37. 33. 42.\n",
      " 44. 48. 44. 19. 43. 35. 46. 33. 35. 47. 36. 24. 40. 18. 30. 44. 36. 23.\n",
      " 29. 48. 19. 43. 24. 25. 39. 23.]\n"
     ]
    }
   ],
   "source": [
    "#Creating the variable Age using numpy random uniform distribution\n",
    "Age = np.random.uniform(18,50,440)\n",
    "Age = Age.round(0) #rounding the values on 0 decimal places\n",
    "print(Age)"
   ]
  },
  {
   "cell_type": "code",
   "execution_count": 78,
   "metadata": {},
   "outputs": [
    {
     "data": {
      "text/plain": [
       "(array([29., 22.,  9., 28., 14., 28., 29., 15., 15., 18., 35., 25., 12.,\n",
       "        33., 15., 28., 27., 13., 22., 23.]),\n",
       " array([18. , 19.6, 21.2, 22.8, 24.4, 26. , 27.6, 29.2, 30.8, 32.4, 34. ,\n",
       "        35.6, 37.2, 38.8, 40.4, 42. , 43.6, 45.2, 46.8, 48.4, 50. ]),\n",
       " <a list of 20 Patch objects>)"
      ]
     },
     "execution_count": 78,
     "metadata": {},
     "output_type": "execute_result"
    },
    {
     "data": {
      "image/png": "[encoded data removed]",
      "text/plain": [
       "<Figure size 432x288 with 1 Axes>"
      ]
     },
     "metadata": {
      "needs_background": "light"
     },
     "output_type": "display_data"
    }
   ],
   "source": [
    "#Histogram of the variable Age\n",
    "plt.hist(Age, bins=20)"
   ]
  },
  {
   "cell_type": "code",
   "execution_count": 82,
   "metadata": {},
   "outputs": [
    {
     "name": "stdout",
     "output_type": "stream",
     "text": [
      "Mean: 33.91590909090909\n",
      "Standard deviation: 9.287318900273206\n"
     ]
    }
   ],
   "source": [
    "print(\"Mean:\", Age.mean())\n",
    "print(\"Standard deviation:\", Age.std())"
   ]
  },
  {
   "cell_type": "markdown",
   "metadata": {},
   "source": [
    "### References"
   ]
  },
  {
   "cell_type": "markdown",
   "metadata": {},
   "source": [
    "[1]GMIT. (2019). Retrieved from https://www.gmit.ie/\n",
    "[2] 3.8.0 Documentation. Retrieved from https://docs.python.org/3/  \n",
    "[3] Project Jupyter. (n.d.). Retrieved from https://jupyter.org  \n",
    "[4] Sümer, S., Poyrazli, S., & Grahame, K. (2008). Predictors of Depression and Anxiety Among International Students. Journal of Counseling & Development, 86(4), 429–437.  \n",
    "[5] Andrews, B., & Wilding, J. M. (2004). The relation of depression and anxiety to life-stress and achievement in students. British Journal of Psychology, 95(4), 509–521.  \n",
    "[6] van Dinther, M., Dochy, F., & Segers, M. (2011). Factors affecting students’ self-efficacy in higher education. Educational Research Review, 6(2), 95–108.  \n",
    "[7] Ngin, C., Pal, K., Tuot, S., Chhoun, P., Yi, R., & Yi, S. (2018). Social and behavioural factors associated with depressive symptoms among university students in Cambodia: a cross-sectional study. BMJ Open.  \n",
    "[8]Random sampling (numpy.random) -  NumPy v1.14 Manual  \n",
    "https://docs.scipy.org/doc/numpy-1.14.1/reference/routines.random.html  \n",
    "[9] Stack overflow. numpy - how to generate random numbers to satisfy a specific mean and median in python?  \n",
    "https://stackoverflow.com/questions/49855569/how-to-generate-random-numbers-to-satisfy-a-specific-mean-and-median-in-python  "
   ]
  },
  {
   "cell_type": "code",
   "execution_count": null,
   "metadata": {},
   "outputs": [],
   "source": []
  }
 ],
 "metadata": {
  "kernelspec": {
   "display_name": "Python 3",
   "language": "python",
   "name": "python3"
  },
  "language_info": {
   "codemirror_mode": {
    "name": "ipython",
    "version": 3
   },
   "file_extension": ".py",
   "mimetype": "text/x-python",
   "name": "python",
   "nbconvert_exporter": "python",
   "pygments_lexer": "ipython3",
   "version": "3.7.1"
  }
 },
 "nbformat": 4,
 "nbformat_minor": 2
}
