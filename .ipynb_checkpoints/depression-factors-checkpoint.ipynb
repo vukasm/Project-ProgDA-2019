{
 "cells": [
  {
   "cell_type": "markdown",
   "metadata": {},
   "source": [
    "# Project assignment\n",
    "### Programming for Data Analysis, GMIT\n",
    "###  December, 2019."
   ]
  },
  {
   "cell_type": "markdown",
   "metadata": {},
   "source": [
    "### References"
   ]
  },
  {
   "cell_type": "markdown",
   "metadata": {},
   "source": [
    "[1]GMIT. (2019). Retrieved from https://www.gmit.ie/\n",
    "[2] 3.8.0 Documentation. Retrieved from https://docs.python.org/3/  \n",
    "[3] Project Jupyter. (n.d.). Retrieved from https://jupyter.org  \n",
    "[4] Sümer, S., Poyrazli, S., & Grahame, K. (2008). Predictors of Depression and Anxiety Among International Students. Journal of Counseling & Development, 86(4), 429–437.  \n",
    "[5] Andrews, B., & Wilding, J. M. (2004). The relation of depression and anxiety to life-stress and achievement in students. British Journal of Psychology, 95(4), 509–521.  \n",
    "[6] van Dinther, M., Dochy, F., & Segers, M. (2011). Factors affecting students’ self-efficacy in higher education. Educational Research Review, 6(2), 95–108.  \n",
    "[7] Ngin, C., Pal, K., Tuot, S., Chhoun, P., Yi, R., & Yi, S. (2018). Social and behavioural factors associated with depressive symptoms among university students in Cambodia: a cross-sectional study. BMJ Open.  "
   ]
  },
  {
   "cell_type": "code",
   "execution_count": null,
   "metadata": {},
   "outputs": [],
   "source": []
  }
 ],
 "metadata": {
  "kernelspec": {
   "display_name": "Python 3",
   "language": "python",
   "name": "python3"
  },
  "language_info": {
   "codemirror_mode": {
    "name": "ipython",
    "version": 3
   },
   "file_extension": ".py",
   "mimetype": "text/x-python",
   "name": "python",
   "nbconvert_exporter": "python",
   "pygments_lexer": "ipython3",
   "version": "3.7.1"
  }
 },
 "nbformat": 4,
 "nbformat_minor": 2
}
