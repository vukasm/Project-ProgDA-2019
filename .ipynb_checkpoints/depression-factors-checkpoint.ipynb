{
 "cells": [
  {
   "cell_type": "markdown",
   "metadata": {},
   "source": [
    "# Project assignment\n",
    "### Programming for Data Analysis, GMIT\n",
    "###  December, 2019."
   ]
  },
  {
   "cell_type": "markdown",
   "metadata": {},
   "source": [
    "Major **depression** is one of the most common mental illnesses, affecting 6.7% (more than 16 million) of American adults each year and is widely spread among students. A lack of sleep, poor eating habits, and not enough exercise are a recipe for depression among college students. The stress that comes with academia — including financial worries, pressure to get a good job after school, and failed relationships — is enough to force some students to leave college or worse. For that reason, I have chosen depression among international students in United States to be the topic of my projects. I will base my simulated/synthesised dataset on the research paper on the topic as follows: *Predictors of Depression and Anxiety Among International Students*, written by Seda Sümer, Senel Poyrazli, and Kamini Grahame."
   ]
  },
  {
   "cell_type": "markdown",
   "metadata": {},
   "source": [
    "International students are often facing difficulties adjusting to new social and educational environment, which is causing aditional stress. This changes are sometimes followed by cultural shocks, language barriers, homesickness and other social difficulties. All of these circumstances lead to isolation and lonliness and in many cases, depression.  \n",
    "It is very important that those who do experience depression get all the support and help they need and that's why it is essential to raise awareness about this problem and try to recognise the causes, in order to prevent the same.  \n",
    "Therefore, we will analyse the potential causes of depression and their relationship with depression itself."
   ]
  },
  {
   "cell_type": "markdown",
   "metadata": {},
   "source": [
    "## Data"
   ]
  },
  {
   "cell_type": "markdown",
   "metadata": {},
   "source": [
    "Dataset will consist of 240 observations - international students participating in the study and all together 8 variables."
   ]
  },
  {
   "cell_type": "markdown",
   "metadata": {},
   "source": [
    "### Variables"
   ]
  },
  {
   "cell_type": "markdown",
   "metadata": {},
   "source": [
    "**Depression** - measured by the Goldberg Depression Scale (GDP; Goldberg, 1993; Holm, Holm, & Bech, 2001), highest score being 90 (most severe depression) and lowest being 0 (complete absence of depressiove symptoms)  \n",
    "**Age** - age of the student  \n",
    "**Sex** - Male/Female    \n",
    "**GPA** - Grade Point Average, as a measure of the average grade of the student (1.5-4.00)  \n",
    "**Sleep** - average hours of sleep per night  \n",
    "**Exercise** - exercise per week (in hours)   \n",
    "**Social support** - measured by The Social Provisions Scale (SPS; Cutrona & Russell, 1987), includes attachment, social integration, reassurance of worth, reliable allience, guidence and opportunity for nurturance. A high score indicates a greater degree of percieved support with coefficients range 0.37 - 0.66.  \n",
    "**Level of stress** - low, moderate, high"
   ]
  },
  {
   "cell_type": "markdown",
   "metadata": {},
   "source": [
    "## Simulation of  variables"
   ]
  },
  {
   "cell_type": "code",
   "execution_count": 1,
   "metadata": {},
   "outputs": [],
   "source": [
    "#import libraries\n",
    "import pandas as pd\n",
    "import numpy as np\n",
    "import matplotlib.pyplot as plt\n",
    "%matplotlib inline\n",
    "import seaborn as sns"
   ]
  },
  {
   "cell_type": "code",
   "execution_count": 2,
   "metadata": {},
   "outputs": [
    {
     "data": {
      "text/html": [
       "<div>\n",
       "<style scoped>\n",
       "    .dataframe tbody tr th:only-of-type {\n",
       "        vertical-align: middle;\n",
       "    }\n",
       "\n",
       "    .dataframe tbody tr th {\n",
       "        vertical-align: top;\n",
       "    }\n",
       "\n",
       "    .dataframe thead th {\n",
       "        text-align: right;\n",
       "    }\n",
       "</style>\n",
       "<table border=\"1\" class=\"dataframe\">\n",
       "  <thead>\n",
       "    <tr style=\"text-align: right;\">\n",
       "      <th></th>\n",
       "      <th>Age</th>\n",
       "      <th>Sex</th>\n",
       "      <th>GPA</th>\n",
       "      <th>Sleep</th>\n",
       "      <th>Exercise</th>\n",
       "      <th>Soc_support</th>\n",
       "      <th>Stress</th>\n",
       "      <th>Depression</th>\n",
       "    </tr>\n",
       "  </thead>\n",
       "  <tbody>\n",
       "  </tbody>\n",
       "</table>\n",
       "</div>"
      ],
      "text/plain": [
       "Empty DataFrame\n",
       "Columns: [Age, Sex, GPA, Sleep, Exercise, Soc_support, Stress, Depression]\n",
       "Index: []"
      ]
     },
     "execution_count": 2,
     "metadata": {},
     "output_type": "execute_result"
    }
   ],
   "source": [
    "#creating the dataframe with columns as follows\n",
    "df =  pd.DataFrame(columns=['Age','Sex','GPA','Sleep','Exercise','Soc_support','Stress','Depression'])\n",
    "df.head() #ckeck the look of the heading"
   ]
  },
  {
   "cell_type": "markdown",
   "metadata": {},
   "source": [
    "### Age"
   ]
  },
  {
   "cell_type": "markdown",
   "metadata": {},
   "source": [
    "Participants were students of age 18 to 39, average of 29 years and standard deviation of 6.34."
   ]
  },
  {
   "cell_type": "code",
   "execution_count": 3,
   "metadata": {},
   "outputs": [],
   "source": [
    "#Setting the seed in order to reproduce the variable values in the future\n",
    "np.random.seed(100)"
   ]
  },
  {
   "cell_type": "code",
   "execution_count": 4,
   "metadata": {},
   "outputs": [],
   "source": [
    "#Creating the variable Age using numpy random uniform distribution\n",
    "Age = np.random.uniform(18,40,240)\n",
    "df['Age'] = Age.round(0) #rounding the values on 0 decimal places and populating the dataset"
   ]
  },
  {
   "cell_type": "code",
   "execution_count": 5,
   "metadata": {},
   "outputs": [
    {
     "data": {
      "text/plain": [
       "(array([13.,  9., 11., 13., 12., 15., 13., 15., 11., 14., 13., 14., 10.,\n",
       "        10., 10.,  7., 10., 11.,  7., 22.]),\n",
       " array([18.03077851, 19.12806508, 20.22535165, 21.32263822, 22.41992479,\n",
       "        23.51721136, 24.61449793, 25.7117845 , 26.80907107, 27.90635764,\n",
       "        29.00364421, 30.10093078, 31.19821735, 32.29550392, 33.39279049,\n",
       "        34.49007706, 35.58736363, 36.6846502 , 37.78193677, 38.87922334,\n",
       "        39.97650991]),\n",
       " <a list of 20 Patch objects>)"
      ]
     },
     "execution_count": 5,
     "metadata": {},
     "output_type": "execute_result"
    },
    {
     "data": {
      "image/png": "[encoded data removed]",
      "text/plain": [
       "<Figure size 432x288 with 1 Axes>"
      ]
     },
     "metadata": {
      "needs_background": "light"
     },
     "output_type": "display_data"
    }
   ],
   "source": [
    "#Histogram of the variable Age\n",
    "plt.hist(Age, bins=20)"
   ]
  },
  {
   "cell_type": "code",
   "execution_count": 6,
   "metadata": {},
   "outputs": [
    {
     "name": "stdout",
     "output_type": "stream",
     "text": [
      "Mean: 28.91303965668773\n",
      "Standard deviation: 6.41826868199204\n"
     ]
    }
   ],
   "source": [
    "print(\"Mean:\", Age.mean())\n",
    "print(\"Standard deviation:\", Age.std())"
   ]
  },
  {
   "cell_type": "markdown",
   "metadata": {},
   "source": [
    "### Sex"
   ]
  },
  {
   "cell_type": "markdown",
   "metadata": {},
   "source": [
    "57% of the participants were men and 43% women."
   ]
  },
  {
   "cell_type": "code",
   "execution_count": 7,
   "metadata": {},
   "outputs": [],
   "source": [
    "#creating the Male/Female objects\n",
    "sex = ['Male','Female']\n",
    "#create variable Sex with 57% men and 43% women \n",
    "Sex = np.random.choice(sex, 240, p=[0.57,0.43]) "
   ]
  },
  {
   "cell_type": "code",
   "execution_count": 8,
   "metadata": {},
   "outputs": [
    {
     "data": {
      "text/plain": [
       "(array([137.,   0.,   0.,   0.,   0.,   0.,   0.,   0.,   0., 103.]),\n",
       " array([0. , 0.1, 0.2, 0.3, 0.4, 0.5, 0.6, 0.7, 0.8, 0.9, 1. ]),\n",
       " <a list of 10 Patch objects>)"
      ]
     },
     "execution_count": 8,
     "metadata": {},
     "output_type": "execute_result"
    },
    {
     "data": {
      "image/png": "[encoded data removed]",
      "text/plain": [
       "<Figure size 432x288 with 1 Axes>"
      ]
     },
     "metadata": {
      "needs_background": "light"
     },
     "output_type": "display_data"
    }
   ],
   "source": [
    "#histogram of the variable Sex\n",
    "plt.hist(Sex)"
   ]
  },
  {
   "cell_type": "code",
   "execution_count": 9,
   "metadata": {},
   "outputs": [],
   "source": [
    "#populating the dataset column 'Sex'\n",
    "df['Sex']= Sex"
   ]
  },
  {
   "cell_type": "markdown",
   "metadata": {},
   "source": [
    "### GPA"
   ]
  },
  {
   "cell_type": "markdown",
   "metadata": {},
   "source": [
    "GPA of the students is following the normal distribution, with an average of 3.0 and standard deviation of 0.32."
   ]
  },
  {
   "cell_type": "code",
   "execution_count": 10,
   "metadata": {},
   "outputs": [
    {
     "data": {
      "text/plain": [
       "(array([ 4., 11., 23., 44., 69., 52., 29.,  5.,  2.,  1.]),\n",
       " array([1.97281428, 2.19898692, 2.42515956, 2.6513322 , 2.87750484,\n",
       "        3.10367749, 3.32985013, 3.55602277, 3.78219541, 4.00836805,\n",
       "        4.2345407 ]),\n",
       " <a list of 10 Patch objects>)"
      ]
     },
     "execution_count": 10,
     "metadata": {},
     "output_type": "execute_result"
    },
    {
     "data": {
      "image/png": "[encoded data removed]",
      "text/plain": [
       "<Figure size 432x288 with 1 Axes>"
      ]
     },
     "metadata": {
      "needs_background": "light"
     },
     "output_type": "display_data"
    }
   ],
   "source": [
    "#generating GPA variable using numpy random normal\n",
    "GPA = np.random.normal(3,0.32,240)\n",
    "plt.hist(GPA) #histogram of the generated values"
   ]
  },
  {
   "cell_type": "code",
   "execution_count": 11,
   "metadata": {},
   "outputs": [],
   "source": [
    "df['GPA']= GPA #populating the dataset column"
   ]
  },
  {
   "cell_type": "markdown",
   "metadata": {},
   "source": [
    "### Sleep"
   ]
  },
  {
   "cell_type": "markdown",
   "metadata": {},
   "source": [
    "Students on average get 6.5 hours of sleep per night."
   ]
  },
  {
   "cell_type": "code",
   "execution_count": 12,
   "metadata": {},
   "outputs": [
    {
     "data": {
      "text/plain": [
       "(array([39.,  0., 38.,  0., 45.,  0., 43.,  0., 42., 33.]),\n",
       " array([4. , 4.5, 5. , 5.5, 6. , 6.5, 7. , 7.5, 8. , 8.5, 9. ]),\n",
       " <a list of 10 Patch objects>)"
      ]
     },
     "execution_count": 12,
     "metadata": {},
     "output_type": "execute_result"
    },
    {
     "data": {
      "image/png": "[encoded data removed]",
      "text/plain": [
       "<Figure size 432x288 with 1 Axes>"
      ]
     },
     "metadata": {
      "needs_background": "light"
     },
     "output_type": "display_data"
    }
   ],
   "source": [
    "#generating average hours of sleep by numpy randint function\n",
    "Sleep = np.random.randint(4,10,240) \n",
    "plt.hist(Sleep) #histogram of generated values"
   ]
  },
  {
   "cell_type": "code",
   "execution_count": 13,
   "metadata": {},
   "outputs": [
    {
     "name": "stdout",
     "output_type": "stream",
     "text": [
      "Mean: 6.458333333333333\n"
     ]
    }
   ],
   "source": [
    "#mean of the Sleep variable\n",
    "print(\"Mean:\", Sleep.mean())"
   ]
  },
  {
   "cell_type": "code",
   "execution_count": 14,
   "metadata": {},
   "outputs": [],
   "source": [
    "df['Sleep'] = Sleep #populating the dataset column"
   ]
  },
  {
   "cell_type": "markdown",
   "metadata": {},
   "source": [
    "### Exercise"
   ]
  },
  {
   "cell_type": "markdown",
   "metadata": {},
   "source": [
    "Studies show that people who don't exercise show higher depression symptoms than the ones who do exercise and it can be said that exercise has a positove impact on reducing depression. However, research shows that a big percentage of students exercise less than 1 day a week or not at all. "
   ]
  },
  {
   "cell_type": "code",
   "execution_count": 15,
   "metadata": {},
   "outputs": [],
   "source": [
    "#creating a list of average exercise per week, in days\n",
    "avg_exercise = [0,1,2,3,4,5,6,7]\n",
    "#creating a variable Exercise with certain probabilities attatched to each value in the list \n",
    "Exercise = np.random.choice(avg_exercise, 240, p=[0.2,0.3,0.07,0.2,0.2,0.01,0.01,0.01])"
   ]
  },
  {
   "cell_type": "code",
   "execution_count": 16,
   "metadata": {},
   "outputs": [
    {
     "data": {
      "text/plain": [
       "(array([54., 60., 21., 44., 54.,  4.,  3.]),\n",
       " array([0., 1., 2., 3., 4., 5., 6., 7.]),\n",
       " <a list of 7 Patch objects>)"
      ]
     },
     "execution_count": 16,
     "metadata": {},
     "output_type": "execute_result"
    },
    {
     "data": {
      "image/png": "[encoded data removed]",
      "text/plain": [
       "<Figure size 432x288 with 1 Axes>"
      ]
     },
     "metadata": {
      "needs_background": "light"
     },
     "output_type": "display_data"
    }
   ],
   "source": [
    "plt.hist(Exercise, bins=7)"
   ]
  },
  {
   "cell_type": "code",
   "execution_count": 17,
   "metadata": {},
   "outputs": [],
   "source": [
    "df['Exercise'] = Exercise #populating the dataset column"
   ]
  },
  {
   "cell_type": "markdown",
   "metadata": {},
   "source": [
    "### Social support"
   ]
  },
  {
   "cell_type": "markdown",
   "metadata": {},
   "source": [
    "It might be difficult for international students to replace the social netwoek of family, neighbors and friends that they had in their home environment. It is suggested that social support and related variables such as social network  satisfaction,  perceived  social  network,  and  needed support are related to international students’ adjustment levels, life satisfaction, acculturative stress, reactions to stressors, and depressive symptoms."
   ]
  },
  {
   "cell_type": "code",
   "execution_count": 18,
   "metadata": {},
   "outputs": [
    {
     "data": {
      "text/plain": [
       "(array([28., 28., 29., 20., 25., 17., 27., 19., 22., 25.]),\n",
       " array([0.37010609, 0.39904995, 0.42799381, 0.45693766, 0.48588152,\n",
       "        0.51482538, 0.54376923, 0.57271309, 0.60165695, 0.6306008 ,\n",
       "        0.65954466]),\n",
       " <a list of 10 Patch objects>)"
      ]
     },
     "execution_count": 18,
     "metadata": {},
     "output_type": "execute_result"
    },
    {
     "data": {
      "image/png": "[encoded data removed]",
      "text/plain": [
       "<Figure size 432x288 with 1 Axes>"
      ]
     },
     "metadata": {
      "needs_background": "light"
     },
     "output_type": "display_data"
    }
   ],
   "source": [
    "Soc_support = np.random.uniform(0.37,0.66,240)\n",
    "plt.hist(Soc_support)"
   ]
  },
  {
   "cell_type": "code",
   "execution_count": 19,
   "metadata": {},
   "outputs": [
    {
     "name": "stdout",
     "output_type": "stream",
     "text": [
      "Mean: 0.5074923619227906\n"
     ]
    }
   ],
   "source": [
    "print(\"Mean:\", Soc_support.mean())"
   ]
  },
  {
   "cell_type": "code",
   "execution_count": 20,
   "metadata": {},
   "outputs": [],
   "source": [
    "df['Soc_support'] = Soc_support #populating the dataset column"
   ]
  },
  {
   "cell_type": "markdown",
   "metadata": {},
   "source": [
    "### Stress"
   ]
  },
  {
   "cell_type": "code",
   "execution_count": 21,
   "metadata": {},
   "outputs": [
    {
     "data": {
      "text/plain": [
       "(array([61.,  0., 92.,  0., 87.]),\n",
       " array([0. , 0.4, 0.8, 1.2, 1.6, 2. ]),\n",
       " <a list of 5 Patch objects>)"
      ]
     },
     "execution_count": 21,
     "metadata": {},
     "output_type": "execute_result"
    },
    {
     "data": {
      "image/png": "[encoded data removed]",
      "text/plain": [
       "<Figure size 432x288 with 1 Axes>"
      ]
     },
     "metadata": {
      "needs_background": "light"
     },
     "output_type": "display_data"
    }
   ],
   "source": [
    "#create objects for stress levels\n",
    "stress = ['low', 'moderate', 'high']\n",
    "#create variable Stress with certain probabilities\n",
    "Stress = np.random.choice(stress, 240, p=[0.3,0.4,0.3])\n",
    "plt.hist(Stress, bins=5) #histogram of the variable Stress"
   ]
  },
  {
   "cell_type": "code",
   "execution_count": 22,
   "metadata": {},
   "outputs": [],
   "source": [
    "df['Stress'] = Stress #populating the dataset column"
   ]
  },
  {
   "cell_type": "markdown",
   "metadata": {},
   "source": [
    "### Depression"
   ]
  },
  {
   "cell_type": "markdown",
   "metadata": {},
   "source": [
    "Finally,the Depression variable, which can take values of 'Low or none', 'Moderate' or 'High'."
   ]
  },
  {
   "cell_type": "code",
   "execution_count": 23,
   "metadata": {},
   "outputs": [],
   "source": [
    "#creating the variable Depression which depends on the value of social support\n",
    "depression = []\n",
    "for index, row in df.iterrows():\n",
    "    if row.Soc_support < 0.47:\n",
    "        depression.append(np.random.uniform(60,91))\n",
    "    elif row.Soc_support > 0.56:\n",
    "        depression.append(np.random.uniform(0,31))\n",
    "    else:\n",
    "        depression.append(np.random.randint(20,71))\n",
    "        \n",
    "df['Depression'] = depression"
   ]
  },
  {
   "cell_type": "markdown",
   "metadata": {},
   "source": [
    "## Dataset overview"
   ]
  },
  {
   "cell_type": "code",
   "execution_count": 24,
   "metadata": {},
   "outputs": [
    {
     "data": {
      "text/html": [
       "<div>\n",
       "<style scoped>\n",
       "    .dataframe tbody tr th:only-of-type {\n",
       "        vertical-align: middle;\n",
       "    }\n",
       "\n",
       "    .dataframe tbody tr th {\n",
       "        vertical-align: top;\n",
       "    }\n",
       "\n",
       "    .dataframe thead th {\n",
       "        text-align: right;\n",
       "    }\n",
       "</style>\n",
       "<table border=\"1\" class=\"dataframe\">\n",
       "  <thead>\n",
       "    <tr style=\"text-align: right;\">\n",
       "      <th></th>\n",
       "      <th>Age</th>\n",
       "      <th>Sex</th>\n",
       "      <th>GPA</th>\n",
       "      <th>Sleep</th>\n",
       "      <th>Exercise</th>\n",
       "      <th>Soc_support</th>\n",
       "      <th>Stress</th>\n",
       "      <th>Depression</th>\n",
       "    </tr>\n",
       "  </thead>\n",
       "  <tbody>\n",
       "    <tr>\n",
       "      <th>0</th>\n",
       "      <td>30.0</td>\n",
       "      <td>Male</td>\n",
       "      <td>2.993881</td>\n",
       "      <td>8</td>\n",
       "      <td>4</td>\n",
       "      <td>0.541550</td>\n",
       "      <td>high</td>\n",
       "      <td>62.000000</td>\n",
       "    </tr>\n",
       "    <tr>\n",
       "      <th>1</th>\n",
       "      <td>24.0</td>\n",
       "      <td>Female</td>\n",
       "      <td>3.317741</td>\n",
       "      <td>7</td>\n",
       "      <td>0</td>\n",
       "      <td>0.581358</td>\n",
       "      <td>moderate</td>\n",
       "      <td>18.041064</td>\n",
       "    </tr>\n",
       "    <tr>\n",
       "      <th>2</th>\n",
       "      <td>27.0</td>\n",
       "      <td>Male</td>\n",
       "      <td>2.958529</td>\n",
       "      <td>4</td>\n",
       "      <td>3</td>\n",
       "      <td>0.642674</td>\n",
       "      <td>high</td>\n",
       "      <td>17.433294</td>\n",
       "    </tr>\n",
       "    <tr>\n",
       "      <th>3</th>\n",
       "      <td>37.0</td>\n",
       "      <td>Female</td>\n",
       "      <td>2.945334</td>\n",
       "      <td>5</td>\n",
       "      <td>3</td>\n",
       "      <td>0.436409</td>\n",
       "      <td>low</td>\n",
       "      <td>67.806826</td>\n",
       "    </tr>\n",
       "    <tr>\n",
       "      <th>4</th>\n",
       "      <td>18.0</td>\n",
       "      <td>Male</td>\n",
       "      <td>3.252937</td>\n",
       "      <td>5</td>\n",
       "      <td>3</td>\n",
       "      <td>0.557845</td>\n",
       "      <td>low</td>\n",
       "      <td>25.000000</td>\n",
       "    </tr>\n",
       "  </tbody>\n",
       "</table>\n",
       "</div>"
      ],
      "text/plain": [
       "    Age     Sex       GPA  Sleep  Exercise  Soc_support    Stress  Depression\n",
       "0  30.0    Male  2.993881      8         4     0.541550      high   62.000000\n",
       "1  24.0  Female  3.317741      7         0     0.581358  moderate   18.041064\n",
       "2  27.0    Male  2.958529      4         3     0.642674      high   17.433294\n",
       "3  37.0  Female  2.945334      5         3     0.436409       low   67.806826\n",
       "4  18.0    Male  3.252937      5         3     0.557845       low   25.000000"
      ]
     },
     "execution_count": 24,
     "metadata": {},
     "output_type": "execute_result"
    }
   ],
   "source": [
    "df.head() #take a look at the first few lines of the dataset"
   ]
  },
  {
   "cell_type": "code",
   "execution_count": 25,
   "metadata": {},
   "outputs": [
    {
     "data": {
      "text/html": [
       "<div>\n",
       "<style scoped>\n",
       "    .dataframe tbody tr th:only-of-type {\n",
       "        vertical-align: middle;\n",
       "    }\n",
       "\n",
       "    .dataframe tbody tr th {\n",
       "        vertical-align: top;\n",
       "    }\n",
       "\n",
       "    .dataframe thead th {\n",
       "        text-align: right;\n",
       "    }\n",
       "</style>\n",
       "<table border=\"1\" class=\"dataframe\">\n",
       "  <thead>\n",
       "    <tr style=\"text-align: right;\">\n",
       "      <th></th>\n",
       "      <th>Age</th>\n",
       "      <th>GPA</th>\n",
       "      <th>Sleep</th>\n",
       "      <th>Exercise</th>\n",
       "      <th>Soc_support</th>\n",
       "      <th>Depression</th>\n",
       "    </tr>\n",
       "  </thead>\n",
       "  <tbody>\n",
       "    <tr>\n",
       "      <th>count</th>\n",
       "      <td>240.000000</td>\n",
       "      <td>240.000000</td>\n",
       "      <td>240.000000</td>\n",
       "      <td>240.000000</td>\n",
       "      <td>240.000000</td>\n",
       "      <td>240.000000</td>\n",
       "    </tr>\n",
       "    <tr>\n",
       "      <th>mean</th>\n",
       "      <td>28.962500</td>\n",
       "      <td>2.993320</td>\n",
       "      <td>6.458333</td>\n",
       "      <td>2.037500</td>\n",
       "      <td>0.507492</td>\n",
       "      <td>48.493618</td>\n",
       "    </tr>\n",
       "    <tr>\n",
       "      <th>std</th>\n",
       "      <td>6.454431</td>\n",
       "      <td>0.346920</td>\n",
       "      <td>1.651148</td>\n",
       "      <td>1.621847</td>\n",
       "      <td>0.085877</td>\n",
       "      <td>26.956087</td>\n",
       "    </tr>\n",
       "    <tr>\n",
       "      <th>min</th>\n",
       "      <td>18.000000</td>\n",
       "      <td>1.972814</td>\n",
       "      <td>4.000000</td>\n",
       "      <td>0.000000</td>\n",
       "      <td>0.370106</td>\n",
       "      <td>0.643772</td>\n",
       "    </tr>\n",
       "    <tr>\n",
       "      <th>25%</th>\n",
       "      <td>24.000000</td>\n",
       "      <td>2.782749</td>\n",
       "      <td>5.000000</td>\n",
       "      <td>1.000000</td>\n",
       "      <td>0.430824</td>\n",
       "      <td>23.892921</td>\n",
       "    </tr>\n",
       "    <tr>\n",
       "      <th>50%</th>\n",
       "      <td>29.000000</td>\n",
       "      <td>3.004726</td>\n",
       "      <td>6.000000</td>\n",
       "      <td>2.000000</td>\n",
       "      <td>0.505887</td>\n",
       "      <td>53.500000</td>\n",
       "    </tr>\n",
       "    <tr>\n",
       "      <th>75%</th>\n",
       "      <td>34.000000</td>\n",
       "      <td>3.248329</td>\n",
       "      <td>8.000000</td>\n",
       "      <td>4.000000</td>\n",
       "      <td>0.582102</td>\n",
       "      <td>72.388430</td>\n",
       "    </tr>\n",
       "    <tr>\n",
       "      <th>max</th>\n",
       "      <td>40.000000</td>\n",
       "      <td>4.234541</td>\n",
       "      <td>9.000000</td>\n",
       "      <td>7.000000</td>\n",
       "      <td>0.659545</td>\n",
       "      <td>90.648688</td>\n",
       "    </tr>\n",
       "  </tbody>\n",
       "</table>\n",
       "</div>"
      ],
      "text/plain": [
       "              Age         GPA       Sleep    Exercise  Soc_support  Depression\n",
       "count  240.000000  240.000000  240.000000  240.000000   240.000000  240.000000\n",
       "mean    28.962500    2.993320    6.458333    2.037500     0.507492   48.493618\n",
       "std      6.454431    0.346920    1.651148    1.621847     0.085877   26.956087\n",
       "min     18.000000    1.972814    4.000000    0.000000     0.370106    0.643772\n",
       "25%     24.000000    2.782749    5.000000    1.000000     0.430824   23.892921\n",
       "50%     29.000000    3.004726    6.000000    2.000000     0.505887   53.500000\n",
       "75%     34.000000    3.248329    8.000000    4.000000     0.582102   72.388430\n",
       "max     40.000000    4.234541    9.000000    7.000000     0.659545   90.648688"
      ]
     },
     "execution_count": 25,
     "metadata": {},
     "output_type": "execute_result"
    }
   ],
   "source": [
    "df.describe() #some statistic the numeric variables of my dataset"
   ]
  },
  {
   "cell_type": "markdown",
   "metadata": {},
   "source": [
    "## Relationship between variables"
   ]
  },
  {
   "cell_type": "markdown",
   "metadata": {},
   "source": [
    "We can test whether there is a relationship between social support and depression. From the plot below, we can see that there is some kind of relationship between two variables but for better understending what kind of relationship it is I will do a linear regression with *Depression* as dependant variable and *Soc_support* as independent variable."
   ]
  },
  {
   "cell_type": "code",
   "execution_count": 26,
   "metadata": {},
   "outputs": [
    {
     "data": {
      "text/plain": [
       "<matplotlib.axes._subplots.AxesSubplot at 0x273adecd3c8>"
      ]
     },
     "execution_count": 26,
     "metadata": {},
     "output_type": "execute_result"
    },
    {
     "data": {
      "image/png": "[encoded data removed]",
      "text/plain": [
       "<Figure size 432x288 with 1 Axes>"
      ]
     },
     "metadata": {
      "needs_background": "light"
     },
     "output_type": "display_data"
    }
   ],
   "source": [
    "#scatterplot of variables Soc_support and Depression\n",
    "sns.scatterplot(data=df, x='Soc_support',y='Depression')"
   ]
  },
  {
   "cell_type": "markdown",
   "metadata": {},
   "source": [
    "## Linear regression "
   ]
  },
  {
   "cell_type": "markdown",
   "metadata": {},
   "source": [
    "As I said, I will run the linear regression with *Depression* as a dependent (y) variable and *Soc_support* as independent, i.e. explainatory (x) variable. "
   ]
  },
  {
   "cell_type": "code",
   "execution_count": 27,
   "metadata": {},
   "outputs": [],
   "source": [
    "from sklearn.linear_model import LinearRegression"
   ]
  },
  {
   "cell_type": "code",
   "execution_count": 28,
   "metadata": {},
   "outputs": [
    {
     "name": "stdout",
     "output_type": "stream",
     "text": [
      "intercept: [183.61898261]\n",
      "slope: [[-266.26088279]]\n"
     ]
    }
   ],
   "source": [
    "# providing data for regression\n",
    "#calling reshape because the variables are required to be two-dimensional \n",
    "x = df['Soc_support'].values.reshape(-1,1) \n",
    "y = df['Depression'].values.reshape(-1,1)\n",
    "\n",
    "#creating variable 'model' as a linear regression model\n",
    "model = LinearRegression()\n",
    "\n",
    "#fitting the model\n",
    "#calculates the optimal values of the weights 𝑏₀ and 𝑏₁\n",
    "#using the existing input and output (x and y) as the arguments\n",
    "model.fit(x, y)\n",
    "\n",
    "#intercept of the model 𝑏₀ \n",
    "print('intercept:', model.intercept_)\n",
    "#coefficient of the model 𝑏₁\n",
    "print('slope:', model.coef_)\n"
   ]
  },
  {
   "cell_type": "markdown",
   "metadata": {},
   "source": [
    "Since the differences between units within each variables are different, we cannot nicely interpret the results, but only read the sign of the coefficient.  \n",
    "Negative coefficient implies negative relationship between social support and depression.  \n",
    "However, we can try to **predict** the depression level given the social support level."
   ]
  },
  {
   "cell_type": "code",
   "execution_count": 29,
   "metadata": {},
   "outputs": [
    {
     "name": "stdout",
     "output_type": "stream",
     "text": [
      "predicted depression level:\n",
      "[[39.42531266]\n",
      " [28.82603518]\n",
      " [12.49998703]\n",
      " [67.42034497]\n",
      " [35.08662814]\n",
      " [66.46372169]\n",
      " [75.89354342]\n",
      " [36.4974009 ]\n",
      " [ 8.24610561]\n",
      " [78.58417733]\n",
      " [10.44443749]\n",
      " [76.2469563 ]\n",
      " [82.1891956 ]\n",
      " [37.39289031]\n",
      " [81.57348414]\n",
      " [82.76812997]\n",
      " [12.60593875]\n",
      " [73.91827025]\n",
      " [80.48051155]\n",
      " [27.99652728]\n",
      " [46.21996555]\n",
      " [44.66669841]\n",
      " [58.88598281]\n",
      " [50.33558992]\n",
      " [14.12906415]\n",
      " [27.64292729]\n",
      " [68.27758024]\n",
      " [12.93902192]\n",
      " [48.88425111]\n",
      " [33.47266237]\n",
      " [70.33625217]\n",
      " [34.71421056]\n",
      " [81.16884486]\n",
      " [70.14200909]\n",
      " [30.74416817]\n",
      " [40.00449543]\n",
      " [72.87632519]\n",
      " [18.17154721]\n",
      " [18.59549577]\n",
      " [14.46721631]\n",
      " [69.18191517]\n",
      " [48.38130192]\n",
      " [52.69503784]\n",
      " [46.43962549]\n",
      " [67.39046364]\n",
      " [23.59992655]\n",
      " [27.03660658]\n",
      " [53.65904165]\n",
      " [47.37831994]\n",
      " [78.00707968]\n",
      " [71.47281573]\n",
      " [74.40098675]\n",
      " [70.04711782]\n",
      " [48.20924458]\n",
      " [46.64363364]\n",
      " [81.04440293]\n",
      " [42.49522675]\n",
      " [22.06892521]\n",
      " [10.44516168]\n",
      " [22.48938045]\n",
      " [19.00121104]\n",
      " [61.05768468]\n",
      " [81.26129293]\n",
      " [37.83808091]\n",
      " [76.21024427]\n",
      " [78.05604814]\n",
      " [20.62434773]\n",
      " [77.32370595]\n",
      " [43.48195427]\n",
      " [83.71290726]\n",
      " [56.19944766]\n",
      " [39.92170969]\n",
      " [32.86689454]\n",
      " [58.80844858]\n",
      " [32.91490493]\n",
      " [ 8.25934564]\n",
      " [14.39253566]\n",
      " [14.37213766]\n",
      " [17.30688375]\n",
      " [27.65052749]\n",
      " [77.24868214]\n",
      " [58.84862103]\n",
      " [64.47534497]\n",
      " [56.6950462 ]\n",
      " [74.00004298]\n",
      " [83.04207523]\n",
      " [37.45417034]\n",
      " [66.53455267]\n",
      " [48.8101167 ]\n",
      " [44.86032025]\n",
      " [55.1165042 ]\n",
      " [30.57086842]\n",
      " [47.11182991]\n",
      " [82.52939451]\n",
      " [11.21067843]\n",
      " [48.95809573]\n",
      " [18.93405128]\n",
      " [38.64682392]\n",
      " [44.70871359]\n",
      " [64.477582  ]\n",
      " [42.80259033]\n",
      " [55.40058887]\n",
      " [64.5616362 ]\n",
      " [11.10181603]\n",
      " [37.7793735 ]\n",
      " [41.52753007]\n",
      " [67.08833558]\n",
      " [38.01743078]\n",
      " [46.559139  ]\n",
      " [18.6529436 ]\n",
      " [23.30602411]\n",
      " [25.39602236]\n",
      " [84.54863657]\n",
      " [66.91761068]\n",
      " [23.09209762]\n",
      " [16.93560609]\n",
      " [78.69798564]\n",
      " [71.22243752]\n",
      " [28.77953121]\n",
      " [15.2274852 ]\n",
      " [81.22220534]\n",
      " [20.07089051]\n",
      " [14.67195263]\n",
      " [38.26441471]\n",
      " [ 9.16933897]\n",
      " [62.65693988]\n",
      " [ 8.0080392 ]\n",
      " [73.96662464]\n",
      " [83.96867669]\n",
      " [76.98021318]\n",
      " [62.73653899]\n",
      " [75.64114849]\n",
      " [82.09523435]\n",
      " [56.64984361]\n",
      " [50.68483147]\n",
      " [ 9.46138862]\n",
      " [60.32511338]\n",
      " [14.27687657]\n",
      " [36.68479482]\n",
      " [54.80690875]\n",
      " [11.95686689]\n",
      " [16.32325203]\n",
      " [ 8.67688374]\n",
      " [77.19010835]\n",
      " [70.13380122]\n",
      " [31.56307441]\n",
      " [52.04856358]\n",
      " [73.33112604]\n",
      " [36.20868288]\n",
      " [50.36096798]\n",
      " [46.85304227]\n",
      " [62.37561352]\n",
      " [59.07140811]\n",
      " [28.72310453]\n",
      " [57.21144749]\n",
      " [63.55758392]\n",
      " [49.29215497]\n",
      " [69.6150751 ]\n",
      " [37.71911912]\n",
      " [65.57798817]\n",
      " [69.68838772]\n",
      " [79.98087724]\n",
      " [61.66792314]\n",
      " [69.36373354]\n",
      " [63.83842827]\n",
      " [58.1268788 ]\n",
      " [71.09610922]\n",
      " [53.44595152]\n",
      " [20.91792906]\n",
      " [22.64368372]\n",
      " [81.56211857]\n",
      " [26.39271958]\n",
      " [69.05219509]\n",
      " [37.59781985]\n",
      " [82.71380074]\n",
      " [63.47406511]\n",
      " [28.2163501 ]\n",
      " [83.76178262]\n",
      " [51.17373301]\n",
      " [67.28672405]\n",
      " [68.24161199]\n",
      " [34.73160995]\n",
      " [25.6854184 ]\n",
      " [14.9831278 ]\n",
      " [53.76498077]\n",
      " [35.92161423]\n",
      " [38.32796428]\n",
      " [62.33413633]\n",
      " [21.1258099 ]\n",
      " [64.90565663]\n",
      " [82.40274675]\n",
      " [75.94677951]\n",
      " [35.03637636]\n",
      " [37.40248336]\n",
      " [40.06181848]\n",
      " [57.74223542]\n",
      " [48.77713147]\n",
      " [50.92779374]\n",
      " [25.38797532]\n",
      " [43.36848315]\n",
      " [ 8.60352089]\n",
      " [80.82154331]\n",
      " [35.8071044 ]\n",
      " [31.45310126]\n",
      " [30.9334483 ]\n",
      " [37.37645157]\n",
      " [50.17998725]\n",
      " [82.04517602]\n",
      " [25.73643427]\n",
      " [18.92540302]\n",
      " [80.80937921]\n",
      " [57.51127989]\n",
      " [84.47868401]\n",
      " [67.66428594]\n",
      " [68.85918541]\n",
      " [20.87986018]\n",
      " [69.98844006]\n",
      " [52.37867974]\n",
      " [43.51960111]\n",
      " [74.9059711 ]\n",
      " [61.95216186]\n",
      " [21.95497927]\n",
      " [49.17125022]\n",
      " [46.27121228]\n",
      " [77.31830794]\n",
      " [64.8131742 ]\n",
      " [58.70234094]\n",
      " [14.03391517]\n",
      " [14.44326582]\n",
      " [38.9221546 ]\n",
      " [28.34230349]\n",
      " [17.04133137]\n",
      " [33.62751984]\n",
      " [23.22425862]\n",
      " [60.08748577]\n",
      " [65.3510014 ]\n",
      " [73.86347956]\n",
      " [69.79607921]\n",
      " [85.07420787]\n",
      " [24.96285619]]\n"
     ]
    }
   ],
   "source": [
    "#predicting the depression level given the social support level\n",
    "y_pred = model.predict(x)\n",
    "print('predicted depression level:', y_pred, sep='\\n')"
   ]
  },
  {
   "cell_type": "code",
   "execution_count": 32,
   "metadata": {},
   "outputs": [
    {
     "name": "stdout",
     "output_type": "stream",
     "text": [
      "[[0.37]\n",
      " [0.42]\n",
      " [0.47]\n",
      " [0.52]\n",
      " [0.57]\n",
      " [0.62]]\n",
      "[[85.10245598]\n",
      " [71.78941184]\n",
      " [58.4763677 ]\n",
      " [45.16332356]\n",
      " [31.85027942]\n",
      " [18.53723528]]\n"
     ]
    }
   ],
   "source": [
    "#making a new input\n",
    "x_new = np.arange(0.37,0.66,.05).reshape((-1, 1))\n",
    "print(x_new)\n",
    "\n",
    "#predicting depression level given the new input\n",
    "y_new = model.predict(x_new)\n",
    "print(y_new)"
   ]
  },
  {
   "cell_type": "code",
   "execution_count": 33,
   "metadata": {},
   "outputs": [
    {
     "data": {
      "image/png": "[encoded data removed]",
      "text/plain": [
       "<Figure size 432x288 with 1 Axes>"
      ]
     },
     "metadata": {
      "needs_background": "light"
     },
     "output_type": "display_data"
    }
   ],
   "source": [
    "#scatter of inputs and outputs \n",
    "plt.scatter(x, y,  color='gray')\n",
    "#line plot of predicted outputs \n",
    "plt.plot(x, y_pred, color='red', linewidth=2)\n",
    "plt.show()"
   ]
  },
  {
   "cell_type": "markdown",
   "metadata": {},
   "source": [
    "The scatterplot above shows the linear relationship proven by the model with the best fit line."
   ]
  },
  {
   "cell_type": "markdown",
   "metadata": {},
   "source": [
    "### References"
   ]
  },
  {
   "cell_type": "markdown",
   "metadata": {},
   "source": [
    "[1]GMIT. (2019). Retrieved from https://www.gmit.ie/\n",
    "[2] 3.8.0 Documentation. Retrieved from https://docs.python.org/3/  \n",
    "[3] Project Jupyter. (n.d.). Retrieved from https://jupyter.org  \n",
    "[4] Sümer, S., Poyrazli, S., & Grahame, K. (2008). Predictors of Depression and Anxiety Among International Students. Journal of Counseling & Development, 86(4), 429–437.  \n",
    "[5] Andrews, B., & Wilding, J. M. (2004). The relation of depression and anxiety to life-stress and achievement in students. British Journal of Psychology, 95(4), 509–521.  \n",
    "[6] van Dinther, M., Dochy, F., & Segers, M. (2011). Factors affecting students’ self-efficacy in higher education. Educational Research Review, 6(2), 95–108.  \n",
    "[7] Ngin, C., Pal, K., Tuot, S., Chhoun, P., Yi, R., & Yi, S. (2018). Social and behavioural factors associated with depressive symptoms among university students in Cambodia: a cross-sectional study. BMJ Open.  \n",
    "[8]Random sampling (numpy.random) -  NumPy v1.14 Manual  \n",
    "https://docs.scipy.org/doc/numpy-1.14.1/reference/routines.random.html  \n",
    "[9] Stack overflow. numpy - how to generate random numbers to satisfy a specific mean and median in python?  \n",
    "https://stackoverflow.com/questions/49855569/how-to-generate-random-numbers-to-satisfy-a-specific-mean-and-median-in-python  \n",
    "[10] Stack overflow. numpy - Python Random Array of 0s and 1s.  \n",
    "https://stackoverflow.com/questions/26873415/python-random-array-of-0s-and-1s  \n",
    "[11] pyplot - Matplotlib 2.0.2. documentation  \n",
    "https://matplotlib.org/api/pyplot_api.html#matplotlib.pyplot.hist  \n",
    "[12] Cicek, G., Atan, T., Kamuk, Y. U., Imamoglu, O., Yamaner, F., & Aslan, V. (2015). Effects of Exercise on Levels of Depression. The Anthropologist, 20(3), 670–674.  \n",
    "[13] pandas: powerful Python data analysis toolkit - pandas 0.25.3 documentation.  \n",
    "https://pandas.pydata.org/pandas-docs/stable/  \n",
    "[14] 1.1. Linear Models - scikit-learn 0.22 documentation.  \n",
    "https://scikit-learn.org/stable/modules/linear_model.html  \n"
   ]
  }
 ],
 "metadata": {
  "kernelspec": {
   "display_name": "Python 3",
   "language": "python",
   "name": "python3"
  },
  "language_info": {
   "codemirror_mode": {
    "name": "ipython",
    "version": 3
   },
   "file_extension": ".py",
   "mimetype": "text/x-python",
   "name": "python",
   "nbconvert_exporter": "python",
   "pygments_lexer": "ipython3",
   "version": "3.7.1"
  }
 },
 "nbformat": 4,
 "nbformat_minor": 2
}
